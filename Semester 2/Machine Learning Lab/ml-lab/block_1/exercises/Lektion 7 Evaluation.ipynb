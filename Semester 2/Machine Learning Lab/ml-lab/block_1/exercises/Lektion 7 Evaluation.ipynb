{
 "cells": [
  {
   "cell_type": "markdown",
   "metadata": {
    "ExecuteTime": {
     "end_time": "2020-03-19T08:52:48.471134Z",
     "start_time": "2020-03-19T08:52:48.467228Z"
    }
   },
   "source": [
    "# Model Evaluation"
   ]
  },
  {
   "cell_type": "code",
   "execution_count": 1,
   "metadata": {
    "ExecuteTime": {
     "end_time": "2020-03-19T23:38:35.058958Z",
     "start_time": "2020-03-19T23:38:17.108360Z"
    }
   },
   "outputs": [],
   "source": [
    "import pandas as pd\n",
    "from sklearn.model_selection import train_test_split\n",
    "from sklearn.preprocessing import MinMaxScaler, RobustScaler, LabelEncoder, OneHotEncoder\n",
    "from sklearn.impute import SimpleImputer\n",
    "from sklearn.pipeline import FeatureUnion, Pipeline\n",
    "from sklearn.linear_model import LinearRegression"
   ]
  },
  {
   "cell_type": "code",
   "execution_count": 2,
   "metadata": {
    "ExecuteTime": {
     "end_time": "2020-03-19T23:38:35.467866Z",
     "start_time": "2020-03-19T23:38:35.066937Z"
    }
   },
   "outputs": [],
   "source": [
    "data = pd.read_csv(\"../../data/housing.csv\")\n",
    "\n",
    "input_features = [\n",
    "    'longitude',\n",
    "    'latitude',\n",
    "    'housing_median_age',\n",
    "    'total_rooms',\n",
    "    'total_bedrooms',\n",
    "    'population',\n",
    "    'households',\n",
    "    'median_income',\n",
    "    'ocean_proximity'\n",
    "]\n",
    "\n",
    "output_features = [\n",
    "    'median_house_value'\n",
    "]\n",
    "\n",
    "X_train, X_test, y_train, y_test = train_test_split(\n",
    "    data[input_features],\n",
    "    data[output_features]\n",
    ")"
   ]
  },
  {
   "cell_type": "code",
   "execution_count": 3,
   "metadata": {
    "ExecuteTime": {
     "end_time": "2020-03-19T23:38:35.484820Z",
     "start_time": "2020-03-19T23:38:35.475845Z"
    }
   },
   "outputs": [],
   "source": [
    "class ColumnSelector:\n",
    "    \n",
    "    def __init__(self, select_numeric=True):\n",
    "        self.select_numeric = select_numeric\n",
    "    \n",
    "    def fit(self, X, y=None):\n",
    "        return self\n",
    "    \n",
    "    def transform(self, X, y=None):\n",
    "        if self.select_numeric:\n",
    "            return X.select_dtypes(include=[\"number\"])\n",
    "        elif not self.select_numeric:\n",
    "            return X.select_dtypes(exclude=[\"number\"])"
   ]
  },
  {
   "cell_type": "code",
   "execution_count": 9,
   "metadata": {
    "ExecuteTime": {
     "end_time": "2020-03-19T23:39:03.526829Z",
     "start_time": "2020-03-19T23:39:03.248575Z"
    }
   },
   "outputs": [],
   "source": [
    "X_pipeline = FeatureUnion(transformer_list=[\n",
    "    (\"numeric pipeline\", Pipeline(steps=[\n",
    "        (\"select numbers\", ColumnSelector(select_numeric=True)),\n",
    "        (\"impute data\", SimpleImputer(strategy=\"median\")),\n",
    "        (\"scale data\", MinMaxScaler())\n",
    "    ])),\n",
    "    (\"non_numeric pipeline\", Pipeline(steps=[\n",
    "        (\"select non numeric\", ColumnSelector(select_numeric=False)),\n",
    "        (\"encode data\", OneHotEncoder())\n",
    "    ]))\n",
    "])\n",
    "\n",
    "y_pipeline = Pipeline(steps=[\n",
    "    (\"scale data\", MinMaxScaler())\n",
    "])\n",
    "\n",
    "X_pipeline.fit(X_train)\n",
    "X_train_p = X_pipeline.transform(X_train)\n",
    "X_test_p = X_pipeline.transform(X_test)\n",
    "\n",
    "y_pipeline.fit(y_train)\n",
    "y_train_p = y_pipeline.transform(y_train)\n",
    "y_test_p = y_pipeline.transform(y_test)"
   ]
  },
  {
   "cell_type": "code",
   "execution_count": 10,
   "metadata": {
    "ExecuteTime": {
     "end_time": "2020-03-19T23:39:06.094966Z",
     "start_time": "2020-03-19T23:39:06.054082Z"
    }
   },
   "outputs": [
    {
     "data": {
      "text/plain": [
       "LinearRegression(copy_X=True, fit_intercept=True, n_jobs=None, normalize=False)"
      ]
     },
     "execution_count": 10,
     "metadata": {},
     "output_type": "execute_result"
    }
   ],
   "source": [
    "lr_model = LinearRegression()\n",
    "lr_model.fit(X_train_p, y_train_p)"
   ]
  },
  {
   "cell_type": "markdown",
   "metadata": {},
   "source": [
    "## Input zum Thema"
   ]
  },
  {
   "cell_type": "code",
   "execution_count": 11,
   "metadata": {
    "ExecuteTime": {
     "end_time": "2020-03-19T23:39:09.753438Z",
     "start_time": "2020-03-19T23:39:09.747460Z"
    }
   },
   "outputs": [],
   "source": [
    "from sklearn.metrics import explained_variance_score, mean_squared_error, r2_score, max_error"
   ]
  },
  {
   "cell_type": "markdown",
   "metadata": {},
   "source": [
    "### Relative Measures\n",
    "Bei relativen Scores muss das Ergebnis nicht inverse-transformiert werden."
   ]
  },
  {
   "cell_type": "code",
   "execution_count": 7,
   "metadata": {
    "ExecuteTime": {
     "end_time": "2020-03-19T23:38:36.165003Z",
     "start_time": "2020-03-19T23:38:36.117131Z"
    }
   },
   "outputs": [
    {
     "data": {
      "text/plain": [
       "0.6599049119083964"
      ]
     },
     "execution_count": 7,
     "metadata": {},
     "output_type": "execute_result"
    }
   ],
   "source": [
    "r2_score(y_test_p, lr_model.predict(X_test_p))"
   ]
  },
  {
   "cell_type": "code",
   "execution_count": 12,
   "metadata": {
    "ExecuteTime": {
     "end_time": "2020-03-19T23:39:15.102141Z",
     "start_time": "2020-03-19T23:39:15.092169Z"
    },
    "scrolled": true
   },
   "outputs": [
    {
     "data": {
      "text/plain": [
       "0.6599049119083964"
      ]
     },
     "execution_count": 12,
     "metadata": {},
     "output_type": "execute_result"
    }
   ],
   "source": [
    "r2_score(y_test, y_pipeline.inverse_transform(lr_model.predict(X_test_p)))"
   ]
  },
  {
   "cell_type": "code",
   "execution_count": 13,
   "metadata": {
    "ExecuteTime": {
     "end_time": "2020-03-19T23:39:17.205834Z",
     "start_time": "2020-03-19T23:39:17.195862Z"
    }
   },
   "outputs": [
    {
     "data": {
      "text/plain": [
       "0.6599404464703231"
      ]
     },
     "execution_count": 13,
     "metadata": {},
     "output_type": "execute_result"
    }
   ],
   "source": [
    "explained_variance_score(y_test_p, lr_model.predict(X_test_p))"
   ]
  },
  {
   "cell_type": "code",
   "execution_count": 14,
   "metadata": {
    "ExecuteTime": {
     "end_time": "2020-03-19T23:39:19.676634Z",
     "start_time": "2020-03-19T23:39:19.664662Z"
    }
   },
   "outputs": [
    {
     "data": {
      "text/plain": [
       "0.6599404464703232"
      ]
     },
     "execution_count": 14,
     "metadata": {},
     "output_type": "execute_result"
    }
   ],
   "source": [
    "explained_variance_score(y_test, y_pipeline.inverse_transform(lr_model.predict(X_test_p)))"
   ]
  },
  {
   "cell_type": "markdown",
   "metadata": {},
   "source": [
    "### Absolute Measures\n",
    "Bei absoluten Metriken muss das Ergebnis der Schätzung allerdings mit Hilfe der y_pipeline zurück transformiert werden."
   ]
  },
  {
   "cell_type": "code",
   "execution_count": 15,
   "metadata": {
    "ExecuteTime": {
     "end_time": "2020-03-19T23:39:23.056054Z",
     "start_time": "2020-03-19T23:39:23.045083Z"
    }
   },
   "outputs": [
    {
     "data": {
      "text/plain": [
       "4510974152.281362"
      ]
     },
     "execution_count": 15,
     "metadata": {},
     "output_type": "execute_result"
    }
   ],
   "source": [
    "mean_squared_error(y_test, y_pipeline.inverse_transform(lr_model.predict(X_test_p)))"
   ]
  },
  {
   "cell_type": "code",
   "execution_count": 16,
   "metadata": {
    "ExecuteTime": {
     "end_time": "2020-03-19T23:39:25.345267Z",
     "start_time": "2020-03-19T23:39:25.336291Z"
    }
   },
   "outputs": [
    {
     "data": {
      "text/plain": [
       "460199.54239546455"
      ]
     },
     "execution_count": 16,
     "metadata": {},
     "output_type": "execute_result"
    }
   ],
   "source": [
    "max_error(y_test, y_pipeline.inverse_transform(lr_model.predict(X_test_p)))"
   ]
  },
  {
   "cell_type": "markdown",
   "metadata": {},
   "source": [
    "## Weiterführende Aufgaben\n",
    "\n",
    "* Vollzieht dieses Beispiel mit anderen Daten aus `../data` nach\n",
    "* Probiert alternative [Metriken von sklearn](https://scikit-learn.org/stable/modules/model_evaluation.html)\n",
    "* Experimentiert mit absoluten und relativen Metriken"
   ]
  },
  {
   "cell_type": "code",
   "execution_count": null,
   "metadata": {
    "ExecuteTime": {
     "end_time": "2020-03-19T23:38:37.999145Z",
     "start_time": "2020-03-19T23:38:17.415Z"
    }
   },
   "outputs": [],
   "source": [
    "# Platz für euren Code"
   ]
  }
 ],
 "metadata": {
  "kernelspec": {
   "display_name": "Python 3",
   "language": "python",
   "name": "python3"
  },
  "language_info": {
   "codemirror_mode": {
    "name": "ipython",
    "version": 3
   },
   "file_extension": ".py",
   "mimetype": "text/x-python",
   "name": "python",
   "nbconvert_exporter": "python",
   "pygments_lexer": "ipython3",
   "version": "3.6.6"
  }
 },
 "nbformat": 4,
 "nbformat_minor": 2
}
