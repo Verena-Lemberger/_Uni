{
 "cells": [
  {
   "cell_type": "markdown",
   "metadata": {
    "ExecuteTime": {
     "end_time": "2020-03-19T08:52:48.471134Z",
     "start_time": "2020-03-19T08:52:48.467228Z"
    }
   },
   "source": [
    "# Modelling"
   ]
  },
  {
   "cell_type": "code",
   "execution_count": null,
   "metadata": {
    "ExecuteTime": {
     "end_time": "2020-03-19T23:34:40.352338Z",
     "start_time": "2020-03-19T23:34:40.344349Z"
    }
   },
   "outputs": [],
   "source": [
    "import pandas as pd\n",
    "from sklearn.model_selection import train_test_split\n",
    "from sklearn.preprocessing import MinMaxScaler, RobustScaler, LabelEncoder, OneHotEncoder\n",
    "from sklearn.impute import SimpleImputer\n",
    "from sklearn.pipeline import FeatureUnion, Pipeline"
   ]
  },
  {
   "cell_type": "code",
   "execution_count": null,
   "metadata": {
    "ExecuteTime": {
     "end_time": "2020-03-19T23:34:40.553788Z",
     "start_time": "2020-03-19T23:34:40.357316Z"
    }
   },
   "outputs": [],
   "source": [
    "data = pd.read_csv(\"../../data/housing.csv\")\n",
    "\n",
    "input_features = [\n",
    "    'longitude',\n",
    "    'latitude',\n",
    "    'housing_median_age',\n",
    "    'total_rooms',\n",
    "    'total_bedrooms',\n",
    "    'population',\n",
    "    'households',\n",
    "    'median_income',\n",
    "    'ocean_proximity'\n",
    "]\n",
    "\n",
    "output_features = [\n",
    "    'median_house_value'\n",
    "]\n",
    "\n",
    "X_train, X_test, y_train, y_test = train_test_split(\n",
    "    data[input_features],\n",
    "    data[output_features]\n",
    ")"
   ]
  },
  {
   "cell_type": "code",
   "execution_count": null,
   "metadata": {
    "ExecuteTime": {
     "end_time": "2020-03-19T23:34:40.573739Z",
     "start_time": "2020-03-19T23:34:40.557780Z"
    }
   },
   "outputs": [],
   "source": [
    "class ColumnSelector:\n",
    "    \n",
    "    def __init__(self, select_numeric=True):\n",
    "        self.select_numeric = select_numeric\n",
    "    \n",
    "    def fit(self, X, y=None):\n",
    "        return self\n",
    "    \n",
    "    def transform(self, X, y=None):\n",
    "        if self.select_numeric:\n",
    "            return X.select_dtypes(include=[\"number\"])\n",
    "        elif not self.select_numeric:\n",
    "            return X.select_dtypes(exclude=[\"number\"])"
   ]
  },
  {
   "cell_type": "code",
   "execution_count": null,
   "metadata": {
    "ExecuteTime": {
     "end_time": "2020-03-19T23:34:41.149198Z",
     "start_time": "2020-03-19T23:34:40.586701Z"
    }
   },
   "outputs": [],
   "source": [
    "X_pipeline = FeatureUnion(transformer_list=[\n",
    "    (\"numeric pipeline\", Pipeline(steps=[\n",
    "        (\"select numbers\", ColumnSelector(select_numeric=True)),\n",
    "        (\"impute data\", SimpleImputer(strategy=\"median\")),\n",
    "        (\"scale data\", MinMaxScaler())\n",
    "    ])),\n",
    "    (\"non_numeric pipeline\", Pipeline(steps=[\n",
    "        (\"select non numeric\", ColumnSelector(select_numeric=False)),\n",
    "        (\"encode data\", OneHotEncoder())\n",
    "    ]))\n",
    "])\n",
    "\n",
    "y_pipeline = Pipeline(steps=[\n",
    "    (\"scale data\", MinMaxScaler())\n",
    "])\n",
    "\n",
    "X_pipeline.fit(X_train)\n",
    "X_train_p = X_pipeline.transform(X_train)\n",
    "X_test_p = X_pipeline.transform(X_test)\n",
    "\n",
    "y_pipeline.fit(y_train)\n",
    "y_train_p = y_pipeline.transform(y_train)\n",
    "y_test_p = y_pipeline.transform(y_test)"
   ]
  },
  {
   "cell_type": "markdown",
   "metadata": {},
   "source": [
    "## Input zum Thema"
   ]
  },
  {
   "cell_type": "markdown",
   "metadata": {},
   "source": [
    "### Funktionsprinzip eines Estimators"
   ]
  },
  {
   "cell_type": "code",
   "execution_count": null,
   "metadata": {
    "ExecuteTime": {
     "end_time": "2020-03-19T23:34:41.159171Z",
     "start_time": "2020-03-19T23:34:41.152190Z"
    }
   },
   "outputs": [],
   "source": [
    "from sklearn.linear_model import LinearRegression"
   ]
  },
  {
   "cell_type": "code",
   "execution_count": null,
   "metadata": {
    "ExecuteTime": {
     "end_time": "2020-03-19T23:34:41.180116Z",
     "start_time": "2020-03-19T23:34:41.164157Z"
    }
   },
   "outputs": [],
   "source": [
    "lr_model = LinearRegression()"
   ]
  },
  {
   "cell_type": "code",
   "execution_count": null,
   "metadata": {
    "ExecuteTime": {
     "end_time": "2020-03-19T23:34:41.306777Z",
     "start_time": "2020-03-19T23:34:41.184105Z"
    }
   },
   "outputs": [],
   "source": [
    "lr_model.fit(X_train_p, y_train_p)"
   ]
  },
  {
   "cell_type": "code",
   "execution_count": null,
   "metadata": {
    "ExecuteTime": {
     "end_time": "2020-03-19T23:34:41.335698Z",
     "start_time": "2020-03-19T23:34:41.325732Z"
    }
   },
   "outputs": [],
   "source": [
    "prediction = lr_model.predict(X_test_p)"
   ]
  },
  {
   "cell_type": "code",
   "execution_count": null,
   "metadata": {
    "ExecuteTime": {
     "end_time": "2020-03-19T23:34:41.368611Z",
     "start_time": "2020-03-19T23:34:41.345672Z"
    }
   },
   "outputs": [],
   "source": [
    "lr_model.score(X_test_p, y_test_p)"
   ]
  },
  {
   "cell_type": "markdown",
   "metadata": {},
   "source": [
    "### `sklearn` Estimators"
   ]
  },
  {
   "cell_type": "code",
   "execution_count": null,
   "metadata": {
    "ExecuteTime": {
     "end_time": "2020-03-19T23:34:52.611559Z",
     "start_time": "2020-03-19T23:34:52.604577Z"
    }
   },
   "outputs": [],
   "source": [
    "from sklearn.tree import DecisionTreeRegressor\n",
    "from sklearn.ensemble import RandomForestRegressor, AdaBoostRegressor, BaggingRegressor, GradientBoostingRegressor\n",
    "from sklearn.linear_model import Lasso, LogisticRegression, Ridge, PassiveAggressiveRegressor, SGDRegressor\n",
    "from sklearn.svm import SVR"
   ]
  },
  {
   "cell_type": "markdown",
   "metadata": {},
   "source": [
    "## Weiterführende Aufgaben\n",
    "\n",
    "* Vollzieht dieses Beispiel mit anderen Daten aus `../data` nach\n",
    "* Probiert alternative Estimatoren auf eure Daten aus (z.B. `sklearn.tree.DecisionTreeRegressor`, `sklear.ensemble.GradientBoostingRegressor`, `sklearn.ensemble.RandomForestRegressor`, usw.)\n",
    "* Schaut euch die verfügbaren Parameter eines gefitteten Estimators an (z.B. `coef_`, `intercept_`) und überlegt euch, was diese bedeuten. Schaut euch an, wie diese Parameter zu unseren Überlegungen hinsichtlich der Feature-Korrelation passen."
   ]
  },
  {
   "cell_type": "code",
   "execution_count": null,
   "metadata": {
    "ExecuteTime": {
     "end_time": "2020-03-19T23:34:41.424463Z",
     "start_time": "2020-03-19T23:34:40.532Z"
    }
   },
   "outputs": [],
   "source": [
    "# Platz für euren Code"
   ]
  }
 ],
 "metadata": {
  "kernelspec": {
   "display_name": "Python 3",
   "language": "python",
   "name": "python3"
  },
  "language_info": {
   "codemirror_mode": {
    "name": "ipython",
    "version": 3
   },
   "file_extension": ".py",
   "mimetype": "text/x-python",
   "name": "python",
   "nbconvert_exporter": "python",
   "pygments_lexer": "ipython3",
   "version": "3.6.6"
  }
 },
 "nbformat": 4,
 "nbformat_minor": 2
}
