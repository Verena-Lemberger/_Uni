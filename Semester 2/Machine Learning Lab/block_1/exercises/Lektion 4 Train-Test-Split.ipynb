{
 "cells": [
  {
   "cell_type": "markdown",
   "metadata": {},
   "source": [
    "# Train-Test-Split"
   ]
  },
  {
   "cell_type": "code",
   "execution_count": null,
   "metadata": {
    "ExecuteTime": {
     "end_time": "2020-03-19T23:07:00.136288Z",
     "start_time": "2020-03-19T23:07:00.120362Z"
    }
   },
   "outputs": [],
   "source": [
    "import pandas as pd\n",
    "from sklearn.model_selection import train_test_split"
   ]
  },
  {
   "cell_type": "code",
   "execution_count": null,
   "metadata": {
    "ExecuteTime": {
     "end_time": "2020-03-19T23:07:02.061688Z",
     "start_time": "2020-03-19T23:07:01.965346Z"
    }
   },
   "outputs": [],
   "source": [
    "data = pd.read_csv(\"../../data/housing.csv\")"
   ]
  },
  {
   "cell_type": "markdown",
   "metadata": {},
   "source": [
    "## Input zum Thema"
   ]
  },
  {
   "cell_type": "code",
   "execution_count": null,
   "metadata": {
    "ExecuteTime": {
     "end_time": "2020-03-18T21:06:25.614449Z",
     "start_time": "2020-03-18T21:06:25.597984Z"
    }
   },
   "outputs": [],
   "source": [
    "input_features = [\n",
    "    'longitude',\n",
    "    'latitude',\n",
    "    'housing_median_age',\n",
    "    'total_rooms',\n",
    "    'total_bedrooms',\n",
    "    'population',\n",
    "    'households',\n",
    "    'median_income',\n",
    "    'ocean_proximity'\n",
    "]\n",
    "\n",
    "output_features = [\n",
    "    'median_house_value'\n",
    "]"
   ]
  },
  {
   "cell_type": "code",
   "execution_count": null,
   "metadata": {
    "ExecuteTime": {
     "end_time": "2020-03-18T21:06:41.346207Z",
     "start_time": "2020-03-18T21:06:41.317027Z"
    }
   },
   "outputs": [],
   "source": [
    "X = data[input_features]\n",
    "y = data[output_features]"
   ]
  },
  {
   "cell_type": "code",
   "execution_count": null,
   "metadata": {
    "ExecuteTime": {
     "end_time": "2020-03-18T21:09:40.631192Z",
     "start_time": "2020-03-18T21:09:40.596128Z"
    }
   },
   "outputs": [],
   "source": [
    "X_train, X_test, y_train, y_test = train_test_split(X, y)"
   ]
  },
  {
   "cell_type": "markdown",
   "metadata": {},
   "source": [
    "## Weiterführende Aufgaben\n",
    "\n",
    "* Probiert `train_test_split` mit unterschiedlichen `random_states` aus und beobachtet das Ergebnis\n",
    "* Probiert `train_test_split` mit unterschiedlichen `test_size`-Werten aus und beobachtet das Ergebnis\n",
    "* Versucht selbst eine `train_test_split` Methode zu schreiben, die Werte zufällig selektiert\n",
    "* Probiert `train_test_split` mit einem alternativen Datenset aus"
   ]
  },
  {
   "cell_type": "code",
   "execution_count": null,
   "metadata": {},
   "outputs": [],
   "source": [
    "# Platz für euren Code"
   ]
  }
 ],
 "metadata": {
  "kernelspec": {
   "display_name": "Python 3",
   "language": "python",
   "name": "python3"
  },
  "language_info": {
   "codemirror_mode": {
    "name": "ipython",
    "version": 3
   },
   "file_extension": ".py",
   "mimetype": "text/x-python",
   "name": "python",
   "nbconvert_exporter": "python",
   "pygments_lexer": "ipython3",
   "version": "3.6.6"
  }
 },
 "nbformat": 4,
 "nbformat_minor": 2
}
