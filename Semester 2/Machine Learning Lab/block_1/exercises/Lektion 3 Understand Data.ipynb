{
 "cells": [
  {
   "cell_type": "markdown",
   "metadata": {},
   "source": [
    "# Data Understanding"
   ]
  },
  {
   "cell_type": "code",
   "execution_count": null,
   "metadata": {
    "ExecuteTime": {
     "end_time": "2020-03-19T08:06:24.071665Z",
     "start_time": "2020-03-19T08:06:21.443003Z"
    }
   },
   "outputs": [],
   "source": [
    "import pandas as pd\n",
    "import matplotlib.pyplot as plt\n",
    "import seaborn as sns"
   ]
  },
  {
   "cell_type": "code",
   "execution_count": null,
   "metadata": {
    "ExecuteTime": {
     "end_time": "2020-03-19T08:06:24.165580Z",
     "start_time": "2020-03-19T08:06:24.075554Z"
    }
   },
   "outputs": [],
   "source": [
    "data = pd.read_csv(\"../../data/housing.csv\")"
   ]
  },
  {
   "cell_type": "markdown",
   "metadata": {},
   "source": [
    "## Input zum Thema"
   ]
  },
  {
   "cell_type": "code",
   "execution_count": null,
   "metadata": {
    "ExecuteTime": {
     "end_time": "2020-03-19T08:07:07.846765Z",
     "start_time": "2020-03-19T08:07:07.728230Z"
    }
   },
   "outputs": [],
   "source": [
    "data.describe()"
   ]
  },
  {
   "cell_type": "code",
   "execution_count": null,
   "metadata": {
    "ExecuteTime": {
     "end_time": "2020-03-19T08:22:57.385622Z",
     "start_time": "2020-03-19T08:22:57.349212Z"
    }
   },
   "outputs": [],
   "source": [
    "data.ocean_proximity.value_counts()"
   ]
  },
  {
   "cell_type": "code",
   "execution_count": null,
   "metadata": {
    "ExecuteTime": {
     "end_time": "2020-03-19T08:07:13.122856Z",
     "start_time": "2020-03-19T08:07:13.054380Z"
    }
   },
   "outputs": [],
   "source": [
    "data.corr()"
   ]
  },
  {
   "cell_type": "code",
   "execution_count": null,
   "metadata": {
    "ExecuteTime": {
     "end_time": "2020-03-19T08:08:32.889896Z",
     "start_time": "2020-03-19T08:08:32.864118Z"
    }
   },
   "outputs": [],
   "source": [
    "# Fehlende Werte finden\n",
    "\n",
    "data.isna().any()"
   ]
  },
  {
   "cell_type": "code",
   "execution_count": null,
   "metadata": {
    "ExecuteTime": {
     "end_time": "2020-03-19T08:08:53.713190Z",
     "start_time": "2020-03-19T08:08:53.686741Z"
    }
   },
   "outputs": [],
   "source": [
    "# Fehlende Werte finden\n",
    "\n",
    "data.isna().sum()"
   ]
  },
  {
   "cell_type": "code",
   "execution_count": null,
   "metadata": {
    "ExecuteTime": {
     "end_time": "2020-03-19T08:12:45.902929Z",
     "start_time": "2020-03-19T08:12:45.449804Z"
    }
   },
   "outputs": [],
   "source": [
    "data.median_income.plot(\n",
    "    kind=\"hist\",\n",
    "    title=\"Median Income\"\n",
    ")"
   ]
  },
  {
   "cell_type": "code",
   "execution_count": null,
   "metadata": {
    "ExecuteTime": {
     "end_time": "2020-03-19T08:14:18.024039Z",
     "start_time": "2020-03-19T08:14:17.638772Z"
    }
   },
   "outputs": [],
   "source": [
    "# Einfaches Histogram\n",
    "\n",
    "plt.figure(figsize=(7,5))\n",
    "plt.hist(data.median_income)\n",
    "plt.title(\"Median Income\")\n",
    "plt.xlabel(\"Income\")\n",
    "plt.ylabel(\"abs. Frequency\")\n",
    "plt.show()"
   ]
  },
  {
   "cell_type": "code",
   "execution_count": null,
   "metadata": {
    "ExecuteTime": {
     "end_time": "2020-03-19T08:14:10.382789Z",
     "start_time": "2020-03-19T08:14:09.513172Z"
    }
   },
   "outputs": [],
   "source": [
    "plt.scatter(\n",
    "    x=data.median_income,\n",
    "    y=data.median_house_value\n",
    ")\n",
    "plt.title(\"Scatter Plot\")\n",
    "plt.xlabel(\"median income\")\n",
    "plt.ylabel(\"median house value\")"
   ]
  },
  {
   "cell_type": "code",
   "execution_count": null,
   "metadata": {
    "ExecuteTime": {
     "end_time": "2020-03-19T08:19:25.761607Z",
     "start_time": "2020-03-19T08:18:20.545082Z"
    }
   },
   "outputs": [],
   "source": [
    "sns.pairplot(data.dropna())\n",
    "plt.show()"
   ]
  },
  {
   "cell_type": "code",
   "execution_count": null,
   "metadata": {
    "ExecuteTime": {
     "end_time": "2020-03-19T08:19:56.536026Z",
     "start_time": "2020-03-19T08:19:55.619501Z"
    }
   },
   "outputs": [],
   "source": [
    "sns.clustermap(data.corr())\n",
    "plt.show()"
   ]
  },
  {
   "cell_type": "markdown",
   "metadata": {},
   "source": [
    "## Weiterführende Aufgaben\n",
    "\n",
    "* Exploriert eines der anderen Datensets aus `../data`\n",
    "* Schaut euch die Dokumentation von `seaborn` an und probiert noch andere Visualisierungen an euren Daten aus\n",
    "* Probiert andere Plottypen von `pyplot` aus (`scatter`, `boxplot`, `bar`, `plot`, usw.)"
   ]
  },
  {
   "cell_type": "code",
   "execution_count": null,
   "metadata": {},
   "outputs": [],
   "source": [
    "# Platz für euren Code"
   ]
  }
 ],
 "metadata": {
  "kernelspec": {
   "display_name": "Python 3",
   "language": "python",
   "name": "python3"
  },
  "language_info": {
   "codemirror_mode": {
    "name": "ipython",
    "version": 3
   },
   "file_extension": ".py",
   "mimetype": "text/x-python",
   "name": "python",
   "nbconvert_exporter": "python",
   "pygments_lexer": "ipython3",
   "version": "3.6.6"
  }
 },
 "nbformat": 4,
 "nbformat_minor": 2
}
