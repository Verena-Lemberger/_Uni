{
 "cells": [
  {
   "cell_type": "markdown",
   "metadata": {
    "ExecuteTime": {
     "end_time": "2020-03-19T08:52:48.471134Z",
     "start_time": "2020-03-19T08:52:48.467228Z"
    }
   },
   "source": [
    "# Data Preprocessing"
   ]
  },
  {
   "cell_type": "code",
   "execution_count": null,
   "metadata": {
    "ExecuteTime": {
     "end_time": "2020-03-19T23:12:01.056395Z",
     "start_time": "2020-03-19T23:12:01.052404Z"
    }
   },
   "outputs": [],
   "source": [
    "import pandas as pd\n",
    "from sklearn.model_selection import train_test_split"
   ]
  },
  {
   "cell_type": "code",
   "execution_count": null,
   "metadata": {
    "ExecuteTime": {
     "end_time": "2020-03-19T23:12:01.149144Z",
     "start_time": "2020-03-19T23:12:01.062376Z"
    }
   },
   "outputs": [],
   "source": [
    "data = pd.read_csv(\"../../data/housing.csv\")\n",
    "\n",
    "input_features = [\n",
    "    'longitude',\n",
    "    'latitude',\n",
    "    'housing_median_age',\n",
    "    'total_rooms',\n",
    "    'total_bedrooms',\n",
    "    'population',\n",
    "    'households',\n",
    "    'median_income',\n",
    "    'ocean_proximity'\n",
    "]\n",
    "\n",
    "output_features = [\n",
    "    'median_house_value'\n",
    "]\n",
    "\n",
    "X_train, X_test, y_train, y_test = train_test_split(\n",
    "    data[input_features],\n",
    "    data[output_features]\n",
    ")"
   ]
  },
  {
   "cell_type": "markdown",
   "metadata": {},
   "source": [
    "## Input zum Thema"
   ]
  },
  {
   "cell_type": "code",
   "execution_count": null,
   "metadata": {
    "ExecuteTime": {
     "end_time": "2020-03-19T23:12:01.158149Z",
     "start_time": "2020-03-19T23:12:01.151140Z"
    }
   },
   "outputs": [],
   "source": [
    "from sklearn.preprocessing import MinMaxScaler, RobustScaler, LabelEncoder, OneHotEncoder\n",
    "from sklearn.impute import SimpleImputer"
   ]
  },
  {
   "cell_type": "markdown",
   "metadata": {},
   "source": [
    "### Transformer"
   ]
  },
  {
   "cell_type": "code",
   "execution_count": null,
   "metadata": {
    "ExecuteTime": {
     "end_time": "2020-03-19T23:12:01.192030Z",
     "start_time": "2020-03-19T23:12:01.162110Z"
    }
   },
   "outputs": [],
   "source": [
    "imputer = SimpleImputer(strategy=\"median\")\n",
    "imputer.fit(data[[\"longitude\", \"latitude\", \"total_bedrooms\"]])\n",
    "imputed_data = imputer.transform(data[[\"longitude\", \"latitude\", \"total_bedrooms\"]])"
   ]
  },
  {
   "cell_type": "code",
   "execution_count": null,
   "metadata": {
    "ExecuteTime": {
     "end_time": "2020-03-19T23:12:01.202032Z",
     "start_time": "2020-03-19T23:12:01.196020Z"
    }
   },
   "outputs": [],
   "source": [
    "scaler = MinMaxScaler()\n",
    "scaler.fit(imputed_data)\n",
    "scaled_data = scaler.transform(imputed_data)"
   ]
  },
  {
   "cell_type": "markdown",
   "metadata": {},
   "source": [
    "### Pipeline"
   ]
  },
  {
   "cell_type": "code",
   "execution_count": null,
   "metadata": {
    "ExecuteTime": {
     "end_time": "2020-03-19T23:12:01.221950Z",
     "start_time": "2020-03-19T23:12:01.203998Z"
    }
   },
   "outputs": [],
   "source": [
    "from sklearn.pipeline import Pipeline"
   ]
  },
  {
   "cell_type": "code",
   "execution_count": null,
   "metadata": {
    "ExecuteTime": {
     "end_time": "2020-03-19T23:12:01.237908Z",
     "start_time": "2020-03-19T23:12:01.223944Z"
    }
   },
   "outputs": [],
   "source": [
    "pipeline = Pipeline(steps=[\n",
    "    (\"impute data\", SimpleImputer(strategy=\"median\")),\n",
    "    (\"scale data\", MinMaxScaler())\n",
    "])"
   ]
  },
  {
   "cell_type": "code",
   "execution_count": null,
   "metadata": {
    "ExecuteTime": {
     "end_time": "2020-03-19T23:12:01.275805Z",
     "start_time": "2020-03-19T23:12:01.240900Z"
    }
   },
   "outputs": [],
   "source": [
    "pipeline.fit(data[[\"longitude\", \"latitude\", \"total_bedrooms\"]])\n",
    "processed_data = pipeline.transform(data[[\"longitude\", \"latitude\", \"total_bedrooms\"]])"
   ]
  },
  {
   "cell_type": "markdown",
   "metadata": {},
   "source": [
    "### Eigene Transformer"
   ]
  },
  {
   "cell_type": "code",
   "execution_count": null,
   "metadata": {
    "ExecuteTime": {
     "end_time": "2020-03-19T23:12:01.290765Z",
     "start_time": "2020-03-19T23:12:01.283787Z"
    }
   },
   "outputs": [],
   "source": [
    "class ColumnSelector:\n",
    "    \n",
    "    def __init__(self, select_numeric=True):\n",
    "        self.select_numeric = select_numeric\n",
    "    \n",
    "    def fit(self, X, y=None):\n",
    "        return self\n",
    "    \n",
    "    def transform(self, X, y=None):\n",
    "        if self.select_numeric:\n",
    "            return X.select_dtypes(include=[\"number\"])\n",
    "        elif not self.select_numeric:\n",
    "            return X.select_dtypes(exclude=[\"number\"])"
   ]
  },
  {
   "cell_type": "code",
   "execution_count": null,
   "metadata": {
    "ExecuteTime": {
     "end_time": "2020-03-19T23:12:01.316696Z",
     "start_time": "2020-03-19T23:12:01.295752Z"
    }
   },
   "outputs": [],
   "source": [
    "num_pipeline = Pipeline(steps=[\n",
    "    (\"select numbers\", ColumnSelector(select_numeric=True)),\n",
    "    (\"impute data\", SimpleImputer(strategy=\"median\")),\n",
    "    (\"scale data\", MinMaxScaler())\n",
    "])"
   ]
  },
  {
   "cell_type": "code",
   "execution_count": null,
   "metadata": {
    "ExecuteTime": {
     "end_time": "2020-03-19T23:12:01.340427Z",
     "start_time": "2020-03-19T23:12:01.318691Z"
    }
   },
   "outputs": [],
   "source": [
    "non_num_pipeline = Pipeline(steps=[\n",
    "    (\"select non numeric\", ColumnSelector(select_numeric=False)),\n",
    "    (\"encode data\", OneHotEncoder())\n",
    "])"
   ]
  },
  {
   "cell_type": "code",
   "execution_count": null,
   "metadata": {
    "ExecuteTime": {
     "end_time": "2020-03-19T23:12:01.442156Z",
     "start_time": "2020-03-19T23:12:01.342421Z"
    }
   },
   "outputs": [],
   "source": [
    "num_pipeline.fit(data)\n",
    "non_num_pipeline.fit(data)\n",
    "\n",
    "num_pipeline.transform(data)\n",
    "non_num_pipeline.transform(data)"
   ]
  },
  {
   "cell_type": "markdown",
   "metadata": {},
   "source": [
    "### Feature Union"
   ]
  },
  {
   "cell_type": "code",
   "execution_count": null,
   "metadata": {
    "ExecuteTime": {
     "end_time": "2020-03-19T23:12:01.449139Z",
     "start_time": "2020-03-19T23:12:01.446147Z"
    }
   },
   "outputs": [],
   "source": [
    "from sklearn.pipeline import FeatureUnion"
   ]
  },
  {
   "cell_type": "code",
   "execution_count": null,
   "metadata": {
    "ExecuteTime": {
     "end_time": "2020-03-19T23:12:01.469871Z",
     "start_time": "2020-03-19T23:12:01.452129Z"
    }
   },
   "outputs": [],
   "source": [
    "X_pipeline = FeatureUnion(transformer_list=[\n",
    "    (\"numeric pipeline\", Pipeline(steps=[\n",
    "        (\"select numbers\", ColumnSelector(select_numeric=True)),\n",
    "        (\"impute data\", SimpleImputer(strategy=\"median\")),\n",
    "        (\"scale data\", MinMaxScaler())\n",
    "    ])),\n",
    "    (\"non_numeric pipeline\", Pipeline(steps=[\n",
    "        (\"select non numeric\", ColumnSelector(select_numeric=False)),\n",
    "        (\"encode data\", OneHotEncoder())\n",
    "    ]))\n",
    "])"
   ]
  },
  {
   "cell_type": "code",
   "execution_count": null,
   "metadata": {
    "ExecuteTime": {
     "end_time": "2020-03-19T23:12:01.557642Z",
     "start_time": "2020-03-19T23:12:01.471865Z"
    }
   },
   "outputs": [],
   "source": [
    "X_pipeline.fit(X_train)\n",
    "X_train_p = X_pipeline.transform(X_train)\n",
    "X_test_p = X_pipeline.transform(X_test)"
   ]
  },
  {
   "cell_type": "code",
   "execution_count": null,
   "metadata": {
    "ExecuteTime": {
     "end_time": "2020-03-19T23:12:01.566616Z",
     "start_time": "2020-03-19T23:12:01.560630Z"
    }
   },
   "outputs": [],
   "source": [
    "y_pipeline = Pipeline(steps=[\n",
    "    (\"scale data\", MinMaxScaler())\n",
    "])"
   ]
  },
  {
   "cell_type": "code",
   "execution_count": null,
   "metadata": {
    "ExecuteTime": {
     "end_time": "2020-03-19T23:12:01.603504Z",
     "start_time": "2020-03-19T23:12:01.569604Z"
    }
   },
   "outputs": [],
   "source": [
    "y_pipeline.fit(y_train)\n",
    "y_train_p = y_pipeline.transform(y_train)\n",
    "y_test_p = y_pipeline.transform(y_test)"
   ]
  },
  {
   "cell_type": "markdown",
   "metadata": {},
   "source": [
    "## Weiterführende Aufgaben\n",
    "\n",
    "* Baut euch eine Pipeline für eines der anderen Datensets in `../data`\n",
    "* Probiert alternative Vorverarbeitungsschritte in eurer Pipeline aus (z.B. `LabelEncoder`, `RobustScaler` usw.)\n",
    "* Baut euch selbst eine eigene Transformer-Klasse (z.B. um eine neue Feature-Spalte zu bekommen - etwa `beds_per_person`)"
   ]
  },
  {
   "cell_type": "code",
   "execution_count": null,
   "metadata": {
    "ExecuteTime": {
     "end_time": "2020-03-19T23:12:01.624475Z",
     "start_time": "2020-03-19T23:12:01.605494Z"
    }
   },
   "outputs": [],
   "source": [
    "# Platz für euren Code"
   ]
  }
 ],
 "metadata": {
  "kernelspec": {
   "display_name": "Python 3",
   "language": "python",
   "name": "python3"
  },
  "language_info": {
   "codemirror_mode": {
    "name": "ipython",
    "version": 3
   },
   "file_extension": ".py",
   "mimetype": "text/x-python",
   "name": "python",
   "nbconvert_exporter": "python",
   "pygments_lexer": "ipython3",
   "version": "3.6.6"
  }
 },
 "nbformat": 4,
 "nbformat_minor": 2
}
