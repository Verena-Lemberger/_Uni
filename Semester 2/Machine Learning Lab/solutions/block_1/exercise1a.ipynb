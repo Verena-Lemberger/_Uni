{
 "nbformat": 4,
 "nbformat_minor": 2,
 "metadata": {
  "language_info": {
   "name": "python",
   "codemirror_mode": {
    "name": "ipython",
    "version": 3
   },
   "version": "3.7.6-final"
  },
  "orig_nbformat": 2,
  "file_extension": ".py",
  "mimetype": "text/x-python",
  "name": "python",
  "npconvert_exporter": "python",
  "pygments_lexer": "ipython3",
  "version": 3,
  "kernelspec": {
   "name": "python37664bit17a369aea379459798f6ccae7683a0c4",
   "display_name": "Python 3.7.6 64-bit"
  }
 },
 "cells": [
  {
   "cell_type": "markdown",
   "metadata": {},
   "source": [
    "# Aufgabe\n",
    "Verwendet in dieser Aufgabe das bikesharing_simple.csv Datenset. Entwickelt auf Basis dieses Datensets\n",
    "eine Strategie zur Vorverarbeitung der Daten. Ziel eurer Strategie soll es sein, die Daten für Machine Learning\n",
    "vorzubereiten."
   ],
   "execution_count": null,
   "outputs": []
  },
  {
   "cell_type": "code",
   "execution_count": 73,
   "metadata": {},
   "outputs": [],
   "source": [
    "import pandas as pd\n",
    "import seaborn as sns\n",
    "from sklearn.decomposition import PCA\n",
    "from sklearn.model_selection import train_test_split\n",
    "from sklearn.preprocessing import OneHotEncoder, RobustScaler"
   ]
  },
  {
   "cell_type": "markdown",
   "metadata": {},
   "source": [
    "Eine ausführliche Vorverarbeitung der Daten beinhaltet folgende Schritte: \n",
    "\n",
    "1. Check out the missing values\n",
    "2. Encode the Categorical Values\n",
    "3. Standardize data / Feature Scaling"
   ],
   "execution_count": null,
   "outputs": []
  },
  {
   "cell_type": "code",
   "execution_count": 74,
   "metadata": {},
   "outputs": [],
   "source": [
    "data = pd.read_csv(\"../../data/bikesharing_simple.csv\")"
   ]
  },
  {
   "cell_type": "code",
   "execution_count": 75,
   "metadata": {},
   "outputs": [
    {
     "output_type": "execute_result",
     "data": {
      "text/plain": "   Unnamed: 0  instant      dteday  season  yr  mnth  hr  holiday   weekday  \\\n0           0        1  2011-01-01  spring   0     1   0        0  Saturday   \n1           1        2  2011-01-01  spring   0     1   1        0  Saturday   \n2           2        3  2011-01-01  spring   0     1   2        0  Saturday   \n\n  workingday weathersit  temp   atemp   hum  casual  registered  cnt  \\\n0         No      Clear  0.24  0.2879  0.81       3          13   16   \n1         No      Clear  0.22  0.2727  0.80       8          32   40   \n2         No      Clear  0.22  0.2727  0.80       5          27   32   \n\n   windspeed  \n0        0.0  \n1        0.0  \n2        0.0  ",
      "text/html": "<div>\n<style scoped>\n    .dataframe tbody tr th:only-of-type {\n        vertical-align: middle;\n    }\n\n    .dataframe tbody tr th {\n        vertical-align: top;\n    }\n\n    .dataframe thead th {\n        text-align: right;\n    }\n</style>\n<table border=\"1\" class=\"dataframe\">\n  <thead>\n    <tr style=\"text-align: right;\">\n      <th></th>\n      <th>Unnamed: 0</th>\n      <th>instant</th>\n      <th>dteday</th>\n      <th>season</th>\n      <th>yr</th>\n      <th>mnth</th>\n      <th>hr</th>\n      <th>holiday</th>\n      <th>weekday</th>\n      <th>workingday</th>\n      <th>weathersit</th>\n      <th>temp</th>\n      <th>atemp</th>\n      <th>hum</th>\n      <th>casual</th>\n      <th>registered</th>\n      <th>cnt</th>\n      <th>windspeed</th>\n    </tr>\n  </thead>\n  <tbody>\n    <tr>\n      <th>0</th>\n      <td>0</td>\n      <td>1</td>\n      <td>2011-01-01</td>\n      <td>spring</td>\n      <td>0</td>\n      <td>1</td>\n      <td>0</td>\n      <td>0</td>\n      <td>Saturday</td>\n      <td>No</td>\n      <td>Clear</td>\n      <td>0.24</td>\n      <td>0.2879</td>\n      <td>0.81</td>\n      <td>3</td>\n      <td>13</td>\n      <td>16</td>\n      <td>0.0</td>\n    </tr>\n    <tr>\n      <th>1</th>\n      <td>1</td>\n      <td>2</td>\n      <td>2011-01-01</td>\n      <td>spring</td>\n      <td>0</td>\n      <td>1</td>\n      <td>1</td>\n      <td>0</td>\n      <td>Saturday</td>\n      <td>No</td>\n      <td>Clear</td>\n      <td>0.22</td>\n      <td>0.2727</td>\n      <td>0.80</td>\n      <td>8</td>\n      <td>32</td>\n      <td>40</td>\n      <td>0.0</td>\n    </tr>\n    <tr>\n      <th>2</th>\n      <td>2</td>\n      <td>3</td>\n      <td>2011-01-01</td>\n      <td>spring</td>\n      <td>0</td>\n      <td>1</td>\n      <td>2</td>\n      <td>0</td>\n      <td>Saturday</td>\n      <td>No</td>\n      <td>Clear</td>\n      <td>0.22</td>\n      <td>0.2727</td>\n      <td>0.80</td>\n      <td>5</td>\n      <td>27</td>\n      <td>32</td>\n      <td>0.0</td>\n    </tr>\n  </tbody>\n</table>\n</div>"
     },
     "metadata": {},
     "execution_count": 75
    }
   ],
   "source": [
    "data.head(3)"
   ]
  },
  {
   "cell_type": "code",
   "execution_count": 76,
   "metadata": {},
   "outputs": [
    {
     "output_type": "stream",
     "name": "stdout",
     "text": "<class 'pandas.core.frame.DataFrame'>\nRangeIndex: 17379 entries, 0 to 17378\nData columns (total 18 columns):\n #   Column      Non-Null Count  Dtype  \n---  ------      --------------  -----  \n 0   Unnamed: 0  17379 non-null  int64  \n 1   instant     17379 non-null  int64  \n 2   dteday      17379 non-null  object \n 3   season      17379 non-null  object \n 4   yr          17379 non-null  int64  \n 5   mnth        17379 non-null  int64  \n 6   hr          17379 non-null  int64  \n 7   holiday     17379 non-null  int64  \n 8   weekday     17379 non-null  object \n 9   workingday  17379 non-null  object \n 10  weathersit  17379 non-null  object \n 11  temp        17379 non-null  float64\n 12  atemp       17379 non-null  float64\n 13  hum         17379 non-null  float64\n 14  casual      17379 non-null  int64  \n 15  registered  17379 non-null  int64  \n 16  cnt         17379 non-null  int64  \n 17  windspeed   16817 non-null  float64\ndtypes: float64(4), int64(9), object(5)\nmemory usage: 2.4+ MB\n"
    }
   ],
   "source": [
    "data.info()"
   ]
  },
  {
   "cell_type": "markdown",
   "metadata": {},
   "source": [
    "## 1. Missing Values"
   ],
   "execution_count": null,
   "outputs": []
  },
  {
   "cell_type": "code",
   "execution_count": 77,
   "metadata": {},
   "outputs": [
    {
     "output_type": "execute_result",
     "data": {
      "text/plain": "Unnamed: 0    False\ninstant       False\ndteday        False\nseason        False\nyr            False\nmnth          False\nhr            False\nholiday       False\nweekday       False\nworkingday    False\nweathersit    False\ntemp          False\natemp         False\nhum           False\ncasual        False\nregistered    False\ncnt           False\nwindspeed      True\ndtype: bool"
     },
     "metadata": {},
     "execution_count": 77
    }
   ],
   "source": [
    "data.isna().any()"
   ]
  },
  {
   "cell_type": "code",
   "execution_count": 78,
   "metadata": {},
   "outputs": [
    {
     "output_type": "execute_result",
     "data": {
      "text/plain": "Unnamed: 0    False\ninstant       False\ndteday        False\nseason        False\nyr            False\nmnth          False\nhr            False\nholiday       False\nweekday       False\nworkingday    False\nweathersit    False\ntemp          False\natemp         False\nhum           False\ncasual        False\nregistered    False\ncnt           False\nwindspeed      True\ndtype: bool"
     },
     "metadata": {},
     "execution_count": 78
    }
   ],
   "source": [
    "data.isnull().any()"
   ]
  },
  {
   "cell_type": "code",
   "execution_count": 79,
   "metadata": {},
   "outputs": [
    {
     "output_type": "stream",
     "name": "stdout",
     "text": "mean 0.1904967592317298\nmedian 0.194\nmax 0.8507\nunique 31\n"
    },
    {
     "output_type": "execute_result",
     "data": {
      "text/plain": "<matplotlib.axes._subplots.AxesSubplot at 0x114701990>"
     },
     "metadata": {},
     "execution_count": 79
    },
    {
     "output_type": "display_data",
     "data": {
      "text/plain": "<Figure size 432x288 with 1 Axes>",
      "image/svg+xml": "<?xml version=\"1.0\" encoding=\"utf-8\" standalone=\"no\"?>\n<!DOCTYPE svg PUBLIC \"-//W3C//DTD SVG 1.1//EN\"\n  \"http://www.w3.org/Graphics/SVG/1.1/DTD/svg11.dtd\">\n<!-- Created with matplotlib (https://matplotlib.org/) -->\n<svg height=\"266.374219pt\" version=\"1.1\" viewBox=\"0 0 364.817031 266.374219\" width=\"364.817031pt\" xmlns=\"http://www.w3.org/2000/svg\" xmlns:xlink=\"http://www.w3.org/1999/xlink\">\n <defs>\n  <style type=\"text/css\">\n*{stroke-linecap:butt;stroke-linejoin:round;}\n  </style>\n </defs>\n <g id=\"figure_1\">\n  <g id=\"patch_1\">\n   <path d=\"M 0 266.374219 \nL 364.817031 266.374219 \nL 364.817031 0 \nL 0 0 \nz\n\" style=\"fill:#ffffff;\"/>\n  </g>\n  <g id=\"axes_1\">\n   <g id=\"patch_2\">\n    <path d=\"M 22.817031 224.64 \nL 357.617031 224.64 \nL 357.617031 7.2 \nL 22.817031 7.2 \nz\n\" style=\"fill:#eaeaf2;\"/>\n   </g>\n   <g id=\"matplotlib.axis_1\">\n    <g id=\"xtick_1\">\n     <g id=\"line2d_1\">\n      <path clip-path=\"url(#p7b82e6a943)\" d=\"M 54.747628 224.64 \nL 54.747628 7.2 \n\" style=\"fill:none;stroke:#ffffff;stroke-linecap:round;\"/>\n     </g>\n     <g id=\"text_1\">\n      <!-- 0.0 -->\n      <defs>\n       <path d=\"M 4.15625 35.296875 \nQ 4.15625 48 6.765625 55.734375 \nQ 9.375 63.484375 14.515625 67.671875 \nQ 19.671875 71.875 27.484375 71.875 \nQ 33.25 71.875 37.59375 69.546875 \nQ 41.9375 67.234375 44.765625 62.859375 \nQ 47.609375 58.5 49.21875 52.21875 \nQ 50.828125 45.953125 50.828125 35.296875 \nQ 50.828125 22.703125 48.234375 14.96875 \nQ 45.65625 7.234375 40.5 3 \nQ 35.359375 -1.21875 27.484375 -1.21875 \nQ 17.140625 -1.21875 11.234375 6.203125 \nQ 4.15625 15.140625 4.15625 35.296875 \nz\nM 13.1875 35.296875 \nQ 13.1875 17.671875 17.3125 11.828125 \nQ 21.4375 6 27.484375 6 \nQ 33.546875 6 37.671875 11.859375 \nQ 41.796875 17.71875 41.796875 35.296875 \nQ 41.796875 52.984375 37.671875 58.78125 \nQ 33.546875 64.59375 27.390625 64.59375 \nQ 21.34375 64.59375 17.71875 59.46875 \nQ 13.1875 52.9375 13.1875 35.296875 \nz\n\" id=\"ArialMT-48\"/>\n       <path d=\"M 9.078125 0 \nL 9.078125 10.015625 \nL 19.09375 10.015625 \nL 19.09375 0 \nz\n\" id=\"ArialMT-46\"/>\n      </defs>\n      <g style=\"fill:#262626;\" transform=\"translate(47.102628 242.013594)scale(0.11 -0.11)\">\n       <use xlink:href=\"#ArialMT-48\"/>\n       <use x=\"55.615234\" xlink:href=\"#ArialMT-46\"/>\n       <use x=\"83.398438\" xlink:href=\"#ArialMT-48\"/>\n      </g>\n     </g>\n    </g>\n    <g id=\"xtick_2\">\n     <g id=\"line2d_2\">\n      <path clip-path=\"url(#p7b82e6a943)\" d=\"M 118.445478 224.64 \nL 118.445478 7.2 \n\" style=\"fill:none;stroke:#ffffff;stroke-linecap:round;\"/>\n     </g>\n     <g id=\"text_2\">\n      <!-- 0.2 -->\n      <defs>\n       <path d=\"M 50.34375 8.453125 \nL 50.34375 0 \nL 3.03125 0 \nQ 2.9375 3.171875 4.046875 6.109375 \nQ 5.859375 10.9375 9.828125 15.625 \nQ 13.8125 20.3125 21.34375 26.46875 \nQ 33.015625 36.03125 37.109375 41.625 \nQ 41.21875 47.21875 41.21875 52.203125 \nQ 41.21875 57.421875 37.46875 61 \nQ 33.734375 64.59375 27.734375 64.59375 \nQ 21.390625 64.59375 17.578125 60.78125 \nQ 13.765625 56.984375 13.71875 50.25 \nL 4.6875 51.171875 \nQ 5.609375 61.28125 11.65625 66.578125 \nQ 17.71875 71.875 27.9375 71.875 \nQ 38.234375 71.875 44.234375 66.15625 \nQ 50.25 60.453125 50.25 52 \nQ 50.25 47.703125 48.484375 43.546875 \nQ 46.734375 39.40625 42.65625 34.8125 \nQ 38.578125 30.21875 29.109375 22.21875 \nQ 21.1875 15.578125 18.9375 13.203125 \nQ 16.703125 10.84375 15.234375 8.453125 \nz\n\" id=\"ArialMT-50\"/>\n      </defs>\n      <g style=\"fill:#262626;\" transform=\"translate(110.800478 242.013594)scale(0.11 -0.11)\">\n       <use xlink:href=\"#ArialMT-48\"/>\n       <use x=\"55.615234\" xlink:href=\"#ArialMT-46\"/>\n       <use x=\"83.398438\" xlink:href=\"#ArialMT-50\"/>\n      </g>\n     </g>\n    </g>\n    <g id=\"xtick_3\">\n     <g id=\"line2d_3\">\n      <path clip-path=\"url(#p7b82e6a943)\" d=\"M 182.143329 224.64 \nL 182.143329 7.2 \n\" style=\"fill:none;stroke:#ffffff;stroke-linecap:round;\"/>\n     </g>\n     <g id=\"text_3\">\n      <!-- 0.4 -->\n      <defs>\n       <path d=\"M 32.328125 0 \nL 32.328125 17.140625 \nL 1.265625 17.140625 \nL 1.265625 25.203125 \nL 33.9375 71.578125 \nL 41.109375 71.578125 \nL 41.109375 25.203125 \nL 50.78125 25.203125 \nL 50.78125 17.140625 \nL 41.109375 17.140625 \nL 41.109375 0 \nz\nM 32.328125 25.203125 \nL 32.328125 57.46875 \nL 9.90625 25.203125 \nz\n\" id=\"ArialMT-52\"/>\n      </defs>\n      <g style=\"fill:#262626;\" transform=\"translate(174.498329 242.013594)scale(0.11 -0.11)\">\n       <use xlink:href=\"#ArialMT-48\"/>\n       <use x=\"55.615234\" xlink:href=\"#ArialMT-46\"/>\n       <use x=\"83.398438\" xlink:href=\"#ArialMT-52\"/>\n      </g>\n     </g>\n    </g>\n    <g id=\"xtick_4\">\n     <g id=\"line2d_4\">\n      <path clip-path=\"url(#p7b82e6a943)\" d=\"M 245.841179 224.64 \nL 245.841179 7.2 \n\" style=\"fill:none;stroke:#ffffff;stroke-linecap:round;\"/>\n     </g>\n     <g id=\"text_4\">\n      <!-- 0.6 -->\n      <defs>\n       <path d=\"M 49.75 54.046875 \nL 41.015625 53.375 \nQ 39.84375 58.546875 37.703125 60.890625 \nQ 34.125 64.65625 28.90625 64.65625 \nQ 24.703125 64.65625 21.53125 62.3125 \nQ 17.390625 59.28125 14.984375 53.46875 \nQ 12.59375 47.65625 12.5 36.921875 \nQ 15.671875 41.75 20.265625 44.09375 \nQ 24.859375 46.4375 29.890625 46.4375 \nQ 38.671875 46.4375 44.84375 39.96875 \nQ 51.03125 33.5 51.03125 23.25 \nQ 51.03125 16.5 48.125 10.71875 \nQ 45.21875 4.9375 40.140625 1.859375 \nQ 35.0625 -1.21875 28.609375 -1.21875 \nQ 17.625 -1.21875 10.6875 6.859375 \nQ 3.765625 14.9375 3.765625 33.5 \nQ 3.765625 54.25 11.421875 63.671875 \nQ 18.109375 71.875 29.4375 71.875 \nQ 37.890625 71.875 43.28125 67.140625 \nQ 48.6875 62.40625 49.75 54.046875 \nz\nM 13.875 23.1875 \nQ 13.875 18.65625 15.796875 14.5 \nQ 17.71875 10.359375 21.1875 8.171875 \nQ 24.65625 6 28.46875 6 \nQ 34.03125 6 38.03125 10.484375 \nQ 42.046875 14.984375 42.046875 22.703125 \nQ 42.046875 30.125 38.078125 34.390625 \nQ 34.125 38.671875 28.125 38.671875 \nQ 22.171875 38.671875 18.015625 34.390625 \nQ 13.875 30.125 13.875 23.1875 \nz\n\" id=\"ArialMT-54\"/>\n      </defs>\n      <g style=\"fill:#262626;\" transform=\"translate(238.196179 242.013594)scale(0.11 -0.11)\">\n       <use xlink:href=\"#ArialMT-48\"/>\n       <use x=\"55.615234\" xlink:href=\"#ArialMT-46\"/>\n       <use x=\"83.398438\" xlink:href=\"#ArialMT-54\"/>\n      </g>\n     </g>\n    </g>\n    <g id=\"xtick_5\">\n     <g id=\"line2d_5\">\n      <path clip-path=\"url(#p7b82e6a943)\" d=\"M 309.539029 224.64 \nL 309.539029 7.2 \n\" style=\"fill:none;stroke:#ffffff;stroke-linecap:round;\"/>\n     </g>\n     <g id=\"text_5\">\n      <!-- 0.8 -->\n      <defs>\n       <path d=\"M 17.671875 38.8125 \nQ 12.203125 40.828125 9.5625 44.53125 \nQ 6.9375 48.25 6.9375 53.421875 \nQ 6.9375 61.234375 12.546875 66.546875 \nQ 18.171875 71.875 27.484375 71.875 \nQ 36.859375 71.875 42.578125 66.421875 \nQ 48.296875 60.984375 48.296875 53.171875 \nQ 48.296875 48.1875 45.671875 44.5 \nQ 43.0625 40.828125 37.75 38.8125 \nQ 44.34375 36.671875 47.78125 31.875 \nQ 51.21875 27.09375 51.21875 20.453125 \nQ 51.21875 11.28125 44.71875 5.03125 \nQ 38.234375 -1.21875 27.640625 -1.21875 \nQ 17.046875 -1.21875 10.546875 5.046875 \nQ 4.046875 11.328125 4.046875 20.703125 \nQ 4.046875 27.6875 7.59375 32.390625 \nQ 11.140625 37.109375 17.671875 38.8125 \nz\nM 15.921875 53.71875 \nQ 15.921875 48.640625 19.1875 45.40625 \nQ 22.46875 42.1875 27.6875 42.1875 \nQ 32.765625 42.1875 36.015625 45.375 \nQ 39.265625 48.578125 39.265625 53.21875 \nQ 39.265625 58.0625 35.90625 61.359375 \nQ 32.5625 64.65625 27.59375 64.65625 \nQ 22.5625 64.65625 19.234375 61.421875 \nQ 15.921875 58.203125 15.921875 53.71875 \nz\nM 13.09375 20.65625 \nQ 13.09375 16.890625 14.875 13.375 \nQ 16.65625 9.859375 20.171875 7.921875 \nQ 23.6875 6 27.734375 6 \nQ 34.03125 6 38.125 10.046875 \nQ 42.234375 14.109375 42.234375 20.359375 \nQ 42.234375 26.703125 38.015625 30.859375 \nQ 33.796875 35.015625 27.4375 35.015625 \nQ 21.234375 35.015625 17.15625 30.90625 \nQ 13.09375 26.8125 13.09375 20.65625 \nz\n\" id=\"ArialMT-56\"/>\n      </defs>\n      <g style=\"fill:#262626;\" transform=\"translate(301.894029 242.013594)scale(0.11 -0.11)\">\n       <use xlink:href=\"#ArialMT-48\"/>\n       <use x=\"55.615234\" xlink:href=\"#ArialMT-46\"/>\n       <use x=\"83.398438\" xlink:href=\"#ArialMT-56\"/>\n      </g>\n     </g>\n    </g>\n    <g id=\"text_6\">\n     <!-- windspeed -->\n     <defs>\n      <path d=\"M 16.15625 0 \nL 0.296875 51.859375 \nL 9.375 51.859375 \nL 17.625 21.921875 \nL 20.703125 10.796875 \nQ 20.90625 11.625 23.390625 21.484375 \nL 31.640625 51.859375 \nL 40.671875 51.859375 \nL 48.4375 21.78125 \nL 51.03125 11.859375 \nL 54 21.875 \nL 62.890625 51.859375 \nL 71.4375 51.859375 \nL 55.21875 0 \nL 46.09375 0 \nL 37.84375 31.0625 \nL 35.84375 39.890625 \nL 25.34375 0 \nz\n\" id=\"ArialMT-119\"/>\n      <path d=\"M 6.640625 61.46875 \nL 6.640625 71.578125 \nL 15.4375 71.578125 \nL 15.4375 61.46875 \nz\nM 6.640625 0 \nL 6.640625 51.859375 \nL 15.4375 51.859375 \nL 15.4375 0 \nz\n\" id=\"ArialMT-105\"/>\n      <path d=\"M 6.59375 0 \nL 6.59375 51.859375 \nL 14.5 51.859375 \nL 14.5 44.484375 \nQ 20.21875 53.03125 31 53.03125 \nQ 35.6875 53.03125 39.625 51.34375 \nQ 43.5625 49.65625 45.515625 46.921875 \nQ 47.46875 44.1875 48.25 40.4375 \nQ 48.734375 37.984375 48.734375 31.890625 \nL 48.734375 0 \nL 39.9375 0 \nL 39.9375 31.546875 \nQ 39.9375 36.921875 38.90625 39.578125 \nQ 37.890625 42.234375 35.28125 43.8125 \nQ 32.671875 45.40625 29.15625 45.40625 \nQ 23.53125 45.40625 19.453125 41.84375 \nQ 15.375 38.28125 15.375 28.328125 \nL 15.375 0 \nz\n\" id=\"ArialMT-110\"/>\n      <path d=\"M 40.234375 0 \nL 40.234375 6.546875 \nQ 35.296875 -1.171875 25.734375 -1.171875 \nQ 19.53125 -1.171875 14.328125 2.25 \nQ 9.125 5.671875 6.265625 11.796875 \nQ 3.421875 17.921875 3.421875 25.875 \nQ 3.421875 33.640625 6 39.96875 \nQ 8.59375 46.296875 13.765625 49.65625 \nQ 18.953125 53.03125 25.34375 53.03125 \nQ 30.03125 53.03125 33.6875 51.046875 \nQ 37.359375 49.078125 39.65625 45.90625 \nL 39.65625 71.578125 \nL 48.390625 71.578125 \nL 48.390625 0 \nz\nM 12.453125 25.875 \nQ 12.453125 15.921875 16.640625 10.984375 \nQ 20.84375 6.0625 26.5625 6.0625 \nQ 32.328125 6.0625 36.34375 10.765625 \nQ 40.375 15.484375 40.375 25.140625 \nQ 40.375 35.796875 36.265625 40.765625 \nQ 32.171875 45.75 26.171875 45.75 \nQ 20.3125 45.75 16.375 40.96875 \nQ 12.453125 36.1875 12.453125 25.875 \nz\n\" id=\"ArialMT-100\"/>\n      <path d=\"M 3.078125 15.484375 \nL 11.765625 16.84375 \nQ 12.5 11.625 15.84375 8.84375 \nQ 19.1875 6.0625 25.203125 6.0625 \nQ 31.25 6.0625 34.171875 8.515625 \nQ 37.109375 10.984375 37.109375 14.3125 \nQ 37.109375 17.28125 34.515625 19 \nQ 32.71875 20.171875 25.53125 21.96875 \nQ 15.875 24.421875 12.140625 26.203125 \nQ 8.40625 27.984375 6.46875 31.125 \nQ 4.546875 34.28125 4.546875 38.09375 \nQ 4.546875 41.546875 6.125 44.5 \nQ 7.71875 47.46875 10.453125 49.421875 \nQ 12.5 50.921875 16.03125 51.96875 \nQ 19.578125 53.03125 23.640625 53.03125 \nQ 29.734375 53.03125 34.34375 51.265625 \nQ 38.96875 49.515625 41.15625 46.5 \nQ 43.359375 43.5 44.1875 38.484375 \nL 35.59375 37.3125 \nQ 35.015625 41.3125 32.203125 43.546875 \nQ 29.390625 45.796875 24.265625 45.796875 \nQ 18.21875 45.796875 15.625 43.796875 \nQ 13.03125 41.796875 13.03125 39.109375 \nQ 13.03125 37.40625 14.109375 36.03125 \nQ 15.1875 34.625 17.484375 33.6875 \nQ 18.796875 33.203125 25.25 31.453125 \nQ 34.578125 28.953125 38.25 27.359375 \nQ 41.9375 25.78125 44.03125 22.75 \nQ 46.140625 19.734375 46.140625 15.234375 \nQ 46.140625 10.84375 43.578125 6.953125 \nQ 41.015625 3.078125 36.171875 0.953125 \nQ 31.34375 -1.171875 25.25 -1.171875 \nQ 15.140625 -1.171875 9.84375 3.03125 \nQ 4.546875 7.234375 3.078125 15.484375 \nz\n\" id=\"ArialMT-115\"/>\n      <path d=\"M 6.59375 -19.875 \nL 6.59375 51.859375 \nL 14.59375 51.859375 \nL 14.59375 45.125 \nQ 17.4375 49.078125 21 51.046875 \nQ 24.5625 53.03125 29.640625 53.03125 \nQ 36.28125 53.03125 41.359375 49.609375 \nQ 46.4375 46.1875 49.015625 39.953125 \nQ 51.609375 33.734375 51.609375 26.3125 \nQ 51.609375 18.359375 48.75 11.984375 \nQ 45.90625 5.609375 40.453125 2.21875 \nQ 35.015625 -1.171875 29 -1.171875 \nQ 24.609375 -1.171875 21.109375 0.6875 \nQ 17.625 2.546875 15.375 5.375 \nL 15.375 -19.875 \nz\nM 14.546875 25.640625 \nQ 14.546875 15.625 18.59375 10.84375 \nQ 22.65625 6.0625 28.421875 6.0625 \nQ 34.28125 6.0625 38.453125 11.015625 \nQ 42.625 15.96875 42.625 26.375 \nQ 42.625 36.28125 38.546875 41.203125 \nQ 34.46875 46.140625 28.8125 46.140625 \nQ 23.1875 46.140625 18.859375 40.890625 \nQ 14.546875 35.640625 14.546875 25.640625 \nz\n\" id=\"ArialMT-112\"/>\n      <path d=\"M 42.09375 16.703125 \nL 51.171875 15.578125 \nQ 49.03125 7.625 43.21875 3.21875 \nQ 37.40625 -1.171875 28.375 -1.171875 \nQ 17 -1.171875 10.328125 5.828125 \nQ 3.65625 12.84375 3.65625 25.484375 \nQ 3.65625 38.578125 10.390625 45.796875 \nQ 17.140625 53.03125 27.875 53.03125 \nQ 38.28125 53.03125 44.875 45.953125 \nQ 51.46875 38.875 51.46875 26.03125 \nQ 51.46875 25.25 51.421875 23.6875 \nL 12.75 23.6875 \nQ 13.234375 15.140625 17.578125 10.59375 \nQ 21.921875 6.0625 28.421875 6.0625 \nQ 33.25 6.0625 36.671875 8.59375 \nQ 40.09375 11.140625 42.09375 16.703125 \nz\nM 13.234375 30.90625 \nL 42.1875 30.90625 \nQ 41.609375 37.453125 38.875 40.71875 \nQ 34.671875 45.796875 27.984375 45.796875 \nQ 21.921875 45.796875 17.796875 41.75 \nQ 13.671875 37.703125 13.234375 30.90625 \nz\n\" id=\"ArialMT-101\"/>\n     </defs>\n     <g style=\"fill:#262626;\" transform=\"translate(161.531406 256.789219)scale(0.12 -0.12)\">\n      <use xlink:href=\"#ArialMT-119\"/>\n      <use x=\"72.216797\" xlink:href=\"#ArialMT-105\"/>\n      <use x=\"94.433594\" xlink:href=\"#ArialMT-110\"/>\n      <use x=\"150.048828\" xlink:href=\"#ArialMT-100\"/>\n      <use x=\"205.664062\" xlink:href=\"#ArialMT-115\"/>\n      <use x=\"255.664062\" xlink:href=\"#ArialMT-112\"/>\n      <use x=\"311.279297\" xlink:href=\"#ArialMT-101\"/>\n      <use x=\"366.894531\" xlink:href=\"#ArialMT-101\"/>\n      <use x=\"422.509766\" xlink:href=\"#ArialMT-100\"/>\n     </g>\n    </g>\n   </g>\n   <g id=\"matplotlib.axis_2\">\n    <g id=\"ytick_1\">\n     <g id=\"line2d_6\">\n      <path clip-path=\"url(#p7b82e6a943)\" d=\"M 22.817031 224.64 \nL 357.617031 224.64 \n\" style=\"fill:none;stroke:#ffffff;stroke-linecap:round;\"/>\n     </g>\n     <g id=\"text_7\">\n      <!-- 0 -->\n      <g style=\"fill:#262626;\" transform=\"translate(7.2 228.576797)scale(0.11 -0.11)\">\n       <use xlink:href=\"#ArialMT-48\"/>\n      </g>\n     </g>\n    </g>\n    <g id=\"ytick_2\">\n     <g id=\"line2d_7\">\n      <path clip-path=\"url(#p7b82e6a943)\" d=\"M 22.817031 196.424627 \nL 357.617031 196.424627 \n\" style=\"fill:none;stroke:#ffffff;stroke-linecap:round;\"/>\n     </g>\n     <g id=\"text_8\">\n      <!-- 1 -->\n      <defs>\n       <path d=\"M 37.25 0 \nL 28.46875 0 \nL 28.46875 56 \nQ 25.296875 52.984375 20.140625 49.953125 \nQ 14.984375 46.921875 10.890625 45.40625 \nL 10.890625 53.90625 \nQ 18.265625 57.375 23.78125 62.296875 \nQ 29.296875 67.234375 31.59375 71.875 \nL 37.25 71.875 \nz\n\" id=\"ArialMT-49\"/>\n      </defs>\n      <g style=\"fill:#262626;\" transform=\"translate(7.2 200.361424)scale(0.11 -0.11)\">\n       <use xlink:href=\"#ArialMT-49\"/>\n      </g>\n     </g>\n    </g>\n    <g id=\"ytick_3\">\n     <g id=\"line2d_8\">\n      <path clip-path=\"url(#p7b82e6a943)\" d=\"M 22.817031 168.209254 \nL 357.617031 168.209254 \n\" style=\"fill:none;stroke:#ffffff;stroke-linecap:round;\"/>\n     </g>\n     <g id=\"text_9\">\n      <!-- 2 -->\n      <g style=\"fill:#262626;\" transform=\"translate(7.2 172.146051)scale(0.11 -0.11)\">\n       <use xlink:href=\"#ArialMT-50\"/>\n      </g>\n     </g>\n    </g>\n    <g id=\"ytick_4\">\n     <g id=\"line2d_9\">\n      <path clip-path=\"url(#p7b82e6a943)\" d=\"M 22.817031 139.993881 \nL 357.617031 139.993881 \n\" style=\"fill:none;stroke:#ffffff;stroke-linecap:round;\"/>\n     </g>\n     <g id=\"text_10\">\n      <!-- 3 -->\n      <defs>\n       <path d=\"M 4.203125 18.890625 \nL 12.984375 20.0625 \nQ 14.5 12.59375 18.140625 9.296875 \nQ 21.78125 6 27 6 \nQ 33.203125 6 37.46875 10.296875 \nQ 41.75 14.59375 41.75 20.953125 \nQ 41.75 27 37.796875 30.921875 \nQ 33.84375 34.859375 27.734375 34.859375 \nQ 25.25 34.859375 21.53125 33.890625 \nL 22.515625 41.609375 \nQ 23.390625 41.5 23.921875 41.5 \nQ 29.546875 41.5 34.03125 44.421875 \nQ 38.53125 47.359375 38.53125 53.46875 \nQ 38.53125 58.296875 35.25 61.46875 \nQ 31.984375 64.65625 26.8125 64.65625 \nQ 21.6875 64.65625 18.265625 61.421875 \nQ 14.84375 58.203125 13.875 51.765625 \nL 5.078125 53.328125 \nQ 6.6875 62.15625 12.390625 67.015625 \nQ 18.109375 71.875 26.609375 71.875 \nQ 32.46875 71.875 37.390625 69.359375 \nQ 42.328125 66.84375 44.9375 62.5 \nQ 47.5625 58.15625 47.5625 53.265625 \nQ 47.5625 48.640625 45.0625 44.828125 \nQ 42.578125 41.015625 37.703125 38.765625 \nQ 44.046875 37.3125 47.5625 32.6875 \nQ 51.078125 28.078125 51.078125 21.140625 \nQ 51.078125 11.765625 44.234375 5.25 \nQ 37.40625 -1.265625 26.953125 -1.265625 \nQ 17.53125 -1.265625 11.296875 4.34375 \nQ 5.078125 9.96875 4.203125 18.890625 \nz\n\" id=\"ArialMT-51\"/>\n      </defs>\n      <g style=\"fill:#262626;\" transform=\"translate(7.2 143.930677)scale(0.11 -0.11)\">\n       <use xlink:href=\"#ArialMT-51\"/>\n      </g>\n     </g>\n    </g>\n    <g id=\"ytick_5\">\n     <g id=\"line2d_10\">\n      <path clip-path=\"url(#p7b82e6a943)\" d=\"M 22.817031 111.778507 \nL 357.617031 111.778507 \n\" style=\"fill:none;stroke:#ffffff;stroke-linecap:round;\"/>\n     </g>\n     <g id=\"text_11\">\n      <!-- 4 -->\n      <g style=\"fill:#262626;\" transform=\"translate(7.2 115.715304)scale(0.11 -0.11)\">\n       <use xlink:href=\"#ArialMT-52\"/>\n      </g>\n     </g>\n    </g>\n    <g id=\"ytick_6\">\n     <g id=\"line2d_11\">\n      <path clip-path=\"url(#p7b82e6a943)\" d=\"M 22.817031 83.563134 \nL 357.617031 83.563134 \n\" style=\"fill:none;stroke:#ffffff;stroke-linecap:round;\"/>\n     </g>\n     <g id=\"text_12\">\n      <!-- 5 -->\n      <defs>\n       <path d=\"M 4.15625 18.75 \nL 13.375 19.53125 \nQ 14.40625 12.796875 18.140625 9.390625 \nQ 21.875 6 27.15625 6 \nQ 33.5 6 37.890625 10.78125 \nQ 42.28125 15.578125 42.28125 23.484375 \nQ 42.28125 31 38.0625 35.34375 \nQ 33.84375 39.703125 27 39.703125 \nQ 22.75 39.703125 19.328125 37.765625 \nQ 15.921875 35.84375 13.96875 32.765625 \nL 5.71875 33.84375 \nL 12.640625 70.609375 \nL 48.25 70.609375 \nL 48.25 62.203125 \nL 19.671875 62.203125 \nL 15.828125 42.96875 \nQ 22.265625 47.46875 29.34375 47.46875 \nQ 38.71875 47.46875 45.15625 40.96875 \nQ 51.609375 34.46875 51.609375 24.265625 \nQ 51.609375 14.546875 45.953125 7.46875 \nQ 39.0625 -1.21875 27.15625 -1.21875 \nQ 17.390625 -1.21875 11.203125 4.25 \nQ 5.03125 9.71875 4.15625 18.75 \nz\n\" id=\"ArialMT-53\"/>\n      </defs>\n      <g style=\"fill:#262626;\" transform=\"translate(7.2 87.499931)scale(0.11 -0.11)\">\n       <use xlink:href=\"#ArialMT-53\"/>\n      </g>\n     </g>\n    </g>\n    <g id=\"ytick_7\">\n     <g id=\"line2d_12\">\n      <path clip-path=\"url(#p7b82e6a943)\" d=\"M 22.817031 55.347761 \nL 357.617031 55.347761 \n\" style=\"fill:none;stroke:#ffffff;stroke-linecap:round;\"/>\n     </g>\n     <g id=\"text_13\">\n      <!-- 6 -->\n      <g style=\"fill:#262626;\" transform=\"translate(7.2 59.284558)scale(0.11 -0.11)\">\n       <use xlink:href=\"#ArialMT-54\"/>\n      </g>\n     </g>\n    </g>\n    <g id=\"ytick_8\">\n     <g id=\"line2d_13\">\n      <path clip-path=\"url(#p7b82e6a943)\" d=\"M 22.817031 27.132388 \nL 357.617031 27.132388 \n\" style=\"fill:none;stroke:#ffffff;stroke-linecap:round;\"/>\n     </g>\n     <g id=\"text_14\">\n      <!-- 7 -->\n      <defs>\n       <path d=\"M 4.734375 62.203125 \nL 4.734375 70.65625 \nL 51.078125 70.65625 \nL 51.078125 63.8125 \nQ 44.234375 56.546875 37.515625 44.484375 \nQ 30.8125 32.421875 27.15625 19.671875 \nQ 24.515625 10.6875 23.78125 0 \nL 14.75 0 \nQ 14.890625 8.453125 18.0625 20.40625 \nQ 21.234375 32.375 27.171875 43.484375 \nQ 33.109375 54.59375 39.796875 62.203125 \nz\n\" id=\"ArialMT-55\"/>\n      </defs>\n      <g style=\"fill:#262626;\" transform=\"translate(7.2 31.069185)scale(0.11 -0.11)\">\n       <use xlink:href=\"#ArialMT-55\"/>\n      </g>\n     </g>\n    </g>\n   </g>\n   <g id=\"patch_3\">\n    <path clip-path=\"url(#p7b82e6a943)\" d=\"M 54.747628 224.64 \nL 60.166404 224.64 \nL 60.166404 17.554286 \nL 54.747628 17.554286 \nz\n\" style=\"fill:#4c72b0;opacity:0.4;stroke:#ffffff;stroke-linejoin:miter;\"/>\n   </g>\n   <g id=\"patch_4\">\n    <path clip-path=\"url(#p7b82e6a943)\" d=\"M 60.166404 224.64 \nL 65.58518 224.64 \nL 65.58518 224.64 \nL 60.166404 224.64 \nz\n\" style=\"fill:#4c72b0;opacity:0.4;stroke:#ffffff;stroke-linejoin:miter;\"/>\n   </g>\n   <g id=\"patch_5\">\n    <path clip-path=\"url(#p7b82e6a943)\" d=\"M 65.58518 224.64 \nL 71.003956 224.64 \nL 71.003956 224.64 \nL 65.58518 224.64 \nz\n\" style=\"fill:#4c72b0;opacity:0.4;stroke:#ffffff;stroke-linejoin:miter;\"/>\n   </g>\n   <g id=\"patch_6\">\n    <path clip-path=\"url(#p7b82e6a943)\" d=\"M 71.003956 224.64 \nL 76.422732 224.64 \nL 76.422732 224.64 \nL 71.003956 224.64 \nz\n\" style=\"fill:#4c72b0;opacity:0.4;stroke:#ffffff;stroke-linejoin:miter;\"/>\n   </g>\n   <g id=\"patch_7\">\n    <path clip-path=\"url(#p7b82e6a943)\" d=\"M 76.422732 224.64 \nL 81.841509 224.64 \nL 81.841509 224.64 \nL 76.422732 224.64 \nz\n\" style=\"fill:#4c72b0;opacity:0.4;stroke:#ffffff;stroke-linejoin:miter;\"/>\n   </g>\n   <g id=\"patch_8\">\n    <path clip-path=\"url(#p7b82e6a943)\" d=\"M 81.841509 224.64 \nL 87.260285 224.64 \nL 87.260285 89.245388 \nL 81.841509 89.245388 \nz\n\" style=\"fill:#4c72b0;opacity:0.4;stroke:#ffffff;stroke-linejoin:miter;\"/>\n   </g>\n   <g id=\"patch_9\">\n    <path clip-path=\"url(#p7b82e6a943)\" d=\"M 87.260285 224.64 \nL 92.679061 224.64 \nL 92.679061 71.692408 \nL 87.260285 71.692408 \nz\n\" style=\"fill:#4c72b0;opacity:0.4;stroke:#ffffff;stroke-linejoin:miter;\"/>\n   </g>\n   <g id=\"patch_10\">\n    <path clip-path=\"url(#p7b82e6a943)\" d=\"M 92.679061 224.64 \nL 98.097837 224.64 \nL 98.097837 58.281143 \nL 92.679061 58.281143 \nz\n\" style=\"fill:#4c72b0;opacity:0.4;stroke:#ffffff;stroke-linejoin:miter;\"/>\n   </g>\n   <g id=\"patch_11\">\n    <path clip-path=\"url(#p7b82e6a943)\" d=\"M 98.097837 224.64 \nL 103.516613 224.64 \nL 103.516613 224.64 \nL 98.097837 224.64 \nz\n\" style=\"fill:#4c72b0;opacity:0.4;stroke:#ffffff;stroke-linejoin:miter;\"/>\n   </g>\n   <g id=\"patch_12\">\n    <path clip-path=\"url(#p7b82e6a943)\" d=\"M 103.516613 224.64 \nL 108.935389 224.64 \nL 108.935389 62.718694 \nL 103.516613 62.718694 \nz\n\" style=\"fill:#4c72b0;opacity:0.4;stroke:#ffffff;stroke-linejoin:miter;\"/>\n   </g>\n   <g id=\"patch_13\">\n    <path clip-path=\"url(#p7b82e6a943)\" d=\"M 108.935389 224.64 \nL 114.354165 224.64 \nL 114.354165 224.64 \nL 108.935389 224.64 \nz\n\" style=\"fill:#4c72b0;opacity:0.4;stroke:#ffffff;stroke-linejoin:miter;\"/>\n   </g>\n   <g id=\"patch_14\">\n    <path clip-path=\"url(#p7b82e6a943)\" d=\"M 114.354165 224.64 \nL 119.772942 224.64 \nL 119.772942 66.367347 \nL 114.354165 66.367347 \nz\n\" style=\"fill:#4c72b0;opacity:0.4;stroke:#ffffff;stroke-linejoin:miter;\"/>\n   </g>\n   <g id=\"patch_15\">\n    <path clip-path=\"url(#p7b82e6a943)\" d=\"M 119.772942 224.64 \nL 125.191718 224.64 \nL 125.191718 224.64 \nL 119.772942 224.64 \nz\n\" style=\"fill:#4c72b0;opacity:0.4;stroke:#ffffff;stroke-linejoin:miter;\"/>\n   </g>\n   <g id=\"patch_16\">\n    <path clip-path=\"url(#p7b82e6a943)\" d=\"M 125.191718 224.64 \nL 130.610494 224.64 \nL 130.610494 79.285551 \nL 125.191718 79.285551 \nz\n\" style=\"fill:#4c72b0;opacity:0.4;stroke:#ffffff;stroke-linejoin:miter;\"/>\n   </g>\n   <g id=\"patch_17\">\n    <path clip-path=\"url(#p7b82e6a943)\" d=\"M 130.610494 224.64 \nL 136.02927 224.64 \nL 136.02927 101.571918 \nL 130.610494 101.571918 \nz\n\" style=\"fill:#4c72b0;opacity:0.4;stroke:#ffffff;stroke-linejoin:miter;\"/>\n   </g>\n   <g id=\"patch_18\">\n    <path clip-path=\"url(#p7b82e6a943)\" d=\"M 136.02927 224.64 \nL 141.448046 224.64 \nL 141.448046 224.64 \nL 136.02927 224.64 \nz\n\" style=\"fill:#4c72b0;opacity:0.4;stroke:#ffffff;stroke-linejoin:miter;\"/>\n   </g>\n   <g id=\"patch_19\">\n    <path clip-path=\"url(#p7b82e6a943)\" d=\"M 141.448046 224.64 \nL 146.866822 224.64 \nL 146.866822 124.844408 \nL 141.448046 124.844408 \nz\n\" style=\"fill:#4c72b0;opacity:0.4;stroke:#ffffff;stroke-linejoin:miter;\"/>\n   </g>\n   <g id=\"patch_20\">\n    <path clip-path=\"url(#p7b82e6a943)\" d=\"M 146.866822 224.64 \nL 152.285598 224.64 \nL 152.285598 146.834939 \nL 146.866822 146.834939 \nz\n\" style=\"fill:#4c72b0;opacity:0.4;stroke:#ffffff;stroke-linejoin:miter;\"/>\n   </g>\n   <g id=\"patch_21\">\n    <path clip-path=\"url(#p7b82e6a943)\" d=\"M 152.285598 224.64 \nL 157.704374 224.64 \nL 157.704374 224.64 \nL 152.285598 224.64 \nz\n\" style=\"fill:#4c72b0;opacity:0.4;stroke:#ffffff;stroke-linejoin:miter;\"/>\n   </g>\n   <g id=\"patch_22\">\n    <path clip-path=\"url(#p7b82e6a943)\" d=\"M 157.704374 224.64 \nL 163.123151 224.64 \nL 163.123151 166.951837 \nL 157.704374 166.951837 \nz\n\" style=\"fill:#4c72b0;opacity:0.4;stroke:#ffffff;stroke-linejoin:miter;\"/>\n   </g>\n   <g id=\"patch_23\">\n    <path clip-path=\"url(#p7b82e6a943)\" d=\"M 163.123151 224.64 \nL 168.541927 224.64 \nL 168.541927 224.64 \nL 163.123151 224.64 \nz\n\" style=\"fill:#4c72b0;opacity:0.4;stroke:#ffffff;stroke-linejoin:miter;\"/>\n   </g>\n   <g id=\"patch_24\">\n    <path clip-path=\"url(#p7b82e6a943)\" d=\"M 168.541927 224.64 \nL 173.960703 224.64 \nL 173.960703 180.560327 \nL 168.541927 180.560327 \nz\n\" style=\"fill:#4c72b0;opacity:0.4;stroke:#ffffff;stroke-linejoin:miter;\"/>\n   </g>\n   <g id=\"patch_25\">\n    <path clip-path=\"url(#p7b82e6a943)\" d=\"M 173.960703 224.64 \nL 179.379479 224.64 \nL 179.379479 188.350694 \nL 173.960703 188.350694 \nz\n\" style=\"fill:#4c72b0;opacity:0.4;stroke:#ffffff;stroke-linejoin:miter;\"/>\n   </g>\n   <g id=\"patch_26\">\n    <path clip-path=\"url(#p7b82e6a943)\" d=\"M 179.379479 224.64 \nL 184.798255 224.64 \nL 184.798255 224.64 \nL 179.379479 224.64 \nz\n\" style=\"fill:#4c72b0;opacity:0.4;stroke:#ffffff;stroke-linejoin:miter;\"/>\n   </g>\n   <g id=\"patch_27\">\n    <path clip-path=\"url(#p7b82e6a943)\" d=\"M 184.798255 224.64 \nL 190.217031 224.64 \nL 190.217031 196.53551 \nL 184.798255 196.53551 \nz\n\" style=\"fill:#4c72b0;opacity:0.4;stroke:#ffffff;stroke-linejoin:miter;\"/>\n   </g>\n   <g id=\"patch_28\">\n    <path clip-path=\"url(#p7b82e6a943)\" d=\"M 190.217031 224.64 \nL 195.635807 224.64 \nL 195.635807 224.64 \nL 190.217031 224.64 \nz\n\" style=\"fill:#4c72b0;opacity:0.4;stroke:#ffffff;stroke-linejoin:miter;\"/>\n   </g>\n   <g id=\"patch_29\">\n    <path clip-path=\"url(#p7b82e6a943)\" d=\"M 195.635807 224.64 \nL 201.054584 224.64 \nL 201.054584 207.580082 \nL 195.635807 207.580082 \nz\n\" style=\"fill:#4c72b0;opacity:0.4;stroke:#ffffff;stroke-linejoin:miter;\"/>\n   </g>\n   <g id=\"patch_30\">\n    <path clip-path=\"url(#p7b82e6a943)\" d=\"M 201.054584 224.64 \nL 206.47336 224.64 \nL 206.47336 210.439837 \nL 201.054584 210.439837 \nz\n\" style=\"fill:#4c72b0;opacity:0.4;stroke:#ffffff;stroke-linejoin:miter;\"/>\n   </g>\n   <g id=\"patch_31\">\n    <path clip-path=\"url(#p7b82e6a943)\" d=\"M 206.47336 224.64 \nL 211.892136 224.64 \nL 211.892136 213.891265 \nL 206.47336 213.891265 \nz\n\" style=\"fill:#4c72b0;opacity:0.4;stroke:#ffffff;stroke-linejoin:miter;\"/>\n   </g>\n   <g id=\"patch_32\">\n    <path clip-path=\"url(#p7b82e6a943)\" d=\"M 211.892136 224.64 \nL 217.310912 224.64 \nL 217.310912 224.64 \nL 211.892136 224.64 \nz\n\" style=\"fill:#4c72b0;opacity:0.4;stroke:#ffffff;stroke-linejoin:miter;\"/>\n   </g>\n   <g id=\"patch_33\">\n    <path clip-path=\"url(#p7b82e6a943)\" d=\"M 217.310912 224.64 \nL 222.729688 224.64 \nL 222.729688 216.652408 \nL 217.310912 216.652408 \nz\n\" style=\"fill:#4c72b0;opacity:0.4;stroke:#ffffff;stroke-linejoin:miter;\"/>\n   </g>\n   <g id=\"patch_34\">\n    <path clip-path=\"url(#p7b82e6a943)\" d=\"M 222.729688 224.64 \nL 228.148464 224.64 \nL 228.148464 224.64 \nL 222.729688 224.64 \nz\n\" style=\"fill:#4c72b0;opacity:0.4;stroke:#ffffff;stroke-linejoin:miter;\"/>\n   </g>\n   <g id=\"patch_35\">\n    <path clip-path=\"url(#p7b82e6a943)\" d=\"M 228.148464 224.64 \nL 233.56724 224.64 \nL 233.56724 220.794122 \nL 228.148464 220.794122 \nz\n\" style=\"fill:#4c72b0;opacity:0.4;stroke:#ffffff;stroke-linejoin:miter;\"/>\n   </g>\n   <g id=\"patch_36\">\n    <path clip-path=\"url(#p7b82e6a943)\" d=\"M 233.56724 224.64 \nL 238.986016 224.64 \nL 238.986016 224.64 \nL 233.56724 224.64 \nz\n\" style=\"fill:#4c72b0;opacity:0.4;stroke:#ffffff;stroke-linejoin:miter;\"/>\n   </g>\n   <g id=\"patch_37\">\n    <path clip-path=\"url(#p7b82e6a943)\" d=\"M 238.986016 224.64 \nL 244.404793 224.64 \nL 244.404793 220.399673 \nL 238.986016 220.399673 \nz\n\" style=\"fill:#4c72b0;opacity:0.4;stroke:#ffffff;stroke-linejoin:miter;\"/>\n   </g>\n   <g id=\"patch_38\">\n    <path clip-path=\"url(#p7b82e6a943)\" d=\"M 244.404793 224.64 \nL 249.823569 224.64 \nL 249.823569 222.470531 \nL 244.404793 222.470531 \nz\n\" style=\"fill:#4c72b0;opacity:0.4;stroke:#ffffff;stroke-linejoin:miter;\"/>\n   </g>\n   <g id=\"patch_39\">\n    <path clip-path=\"url(#p7b82e6a943)\" d=\"M 249.823569 224.64 \nL 255.242345 224.64 \nL 255.242345 224.64 \nL 249.823569 224.64 \nz\n\" style=\"fill:#4c72b0;opacity:0.4;stroke:#ffffff;stroke-linejoin:miter;\"/>\n   </g>\n   <g id=\"patch_40\">\n    <path clip-path=\"url(#p7b82e6a943)\" d=\"M 255.242345 224.64 \nL 260.661121 224.64 \nL 260.661121 223.259429 \nL 255.242345 223.259429 \nz\n\" style=\"fill:#4c72b0;opacity:0.4;stroke:#ffffff;stroke-linejoin:miter;\"/>\n   </g>\n   <g id=\"patch_41\">\n    <path clip-path=\"url(#p7b82e6a943)\" d=\"M 260.661121 224.64 \nL 266.079897 224.64 \nL 266.079897 223.555265 \nL 260.661121 223.555265 \nz\n\" style=\"fill:#4c72b0;opacity:0.4;stroke:#ffffff;stroke-linejoin:miter;\"/>\n   </g>\n   <g id=\"patch_42\">\n    <path clip-path=\"url(#p7b82e6a943)\" d=\"M 266.079897 224.64 \nL 271.498673 224.64 \nL 271.498673 224.64 \nL 266.079897 224.64 \nz\n\" style=\"fill:#4c72b0;opacity:0.4;stroke:#ffffff;stroke-linejoin:miter;\"/>\n   </g>\n   <g id=\"patch_43\">\n    <path clip-path=\"url(#p7b82e6a943)\" d=\"M 271.498673 224.64 \nL 276.917449 224.64 \nL 276.917449 224.146939 \nL 271.498673 224.146939 \nz\n\" style=\"fill:#4c72b0;opacity:0.4;stroke:#ffffff;stroke-linejoin:miter;\"/>\n   </g>\n   <g id=\"patch_44\">\n    <path clip-path=\"url(#p7b82e6a943)\" d=\"M 276.917449 224.64 \nL 282.336225 224.64 \nL 282.336225 224.64 \nL 276.917449 224.64 \nz\n\" style=\"fill:#4c72b0;opacity:0.4;stroke:#ffffff;stroke-linejoin:miter;\"/>\n   </g>\n   <g id=\"patch_45\">\n    <path clip-path=\"url(#p7b82e6a943)\" d=\"M 282.336225 224.64 \nL 287.755002 224.64 \nL 287.755002 224.442776 \nL 282.336225 224.442776 \nz\n\" style=\"fill:#4c72b0;opacity:0.4;stroke:#ffffff;stroke-linejoin:miter;\"/>\n   </g>\n   <g id=\"patch_46\">\n    <path clip-path=\"url(#p7b82e6a943)\" d=\"M 287.755002 224.64 \nL 293.173778 224.64 \nL 293.173778 224.442776 \nL 287.755002 224.442776 \nz\n\" style=\"fill:#4c72b0;opacity:0.4;stroke:#ffffff;stroke-linejoin:miter;\"/>\n   </g>\n   <g id=\"patch_47\">\n    <path clip-path=\"url(#p7b82e6a943)\" d=\"M 293.173778 224.64 \nL 298.592554 224.64 \nL 298.592554 224.64 \nL 293.173778 224.64 \nz\n\" style=\"fill:#4c72b0;opacity:0.4;stroke:#ffffff;stroke-linejoin:miter;\"/>\n   </g>\n   <g id=\"patch_48\">\n    <path clip-path=\"url(#p7b82e6a943)\" d=\"M 298.592554 224.64 \nL 304.01133 224.64 \nL 304.01133 224.541388 \nL 298.592554 224.541388 \nz\n\" style=\"fill:#4c72b0;opacity:0.4;stroke:#ffffff;stroke-linejoin:miter;\"/>\n   </g>\n   <g id=\"patch_49\">\n    <path clip-path=\"url(#p7b82e6a943)\" d=\"M 304.01133 224.64 \nL 309.430106 224.64 \nL 309.430106 224.64 \nL 304.01133 224.64 \nz\n\" style=\"fill:#4c72b0;opacity:0.4;stroke:#ffffff;stroke-linejoin:miter;\"/>\n   </g>\n   <g id=\"patch_50\">\n    <path clip-path=\"url(#p7b82e6a943)\" d=\"M 309.430106 224.64 \nL 314.848882 224.64 \nL 314.848882 224.442776 \nL 309.430106 224.442776 \nz\n\" style=\"fill:#4c72b0;opacity:0.4;stroke:#ffffff;stroke-linejoin:miter;\"/>\n   </g>\n   <g id=\"patch_51\">\n    <path clip-path=\"url(#p7b82e6a943)\" d=\"M 314.848882 224.64 \nL 320.267658 224.64 \nL 320.267658 224.64 \nL 314.848882 224.64 \nz\n\" style=\"fill:#4c72b0;opacity:0.4;stroke:#ffffff;stroke-linejoin:miter;\"/>\n   </g>\n   <g id=\"patch_52\">\n    <path clip-path=\"url(#p7b82e6a943)\" d=\"M 320.267658 224.64 \nL 325.686435 224.64 \nL 325.686435 224.344163 \nL 320.267658 224.344163 \nz\n\" style=\"fill:#4c72b0;opacity:0.4;stroke:#ffffff;stroke-linejoin:miter;\"/>\n   </g>\n   <g id=\"line2d_14\">\n    <path clip-path=\"url(#p7b82e6a943)\" d=\"M 38.035213 223.747061 \nL 41.109593 220.625103 \nL 44.183973 211.327353 \nL 47.258354 192.086954 \nL 50.332734 165.937574 \nL 53.407114 146.574738 \nL 56.481494 148.080462 \nL 59.555874 169.264095 \nL 62.630254 195.052248 \nL 65.704635 212.643638 \nL 68.779015 219.347595 \nL 71.853395 216.640404 \nL 74.927775 203.716649 \nL 78.002155 179.224025 \nL 81.076535 148.002004 \nL 84.150916 122.519513 \nL 87.225296 113.181471 \nL 90.299676 117.687157 \nL 93.374056 124.946113 \nL 96.448436 128.711912 \nL 99.522816 130.46369 \nL 102.597197 131.558282 \nL 105.671577 131.892303 \nL 108.745957 132.57042 \nL 111.820337 133.641746 \nL 114.894717 134.425735 \nL 117.969097 135.97698 \nL 121.043478 138.462202 \nL 124.117858 140.807898 \nL 127.192238 143.712904 \nL 130.266618 147.622287 \nL 133.340998 151.243951 \nL 136.415378 154.079832 \nL 139.489759 155.463073 \nL 142.564139 154.155438 \nL 145.638519 152.855574 \nL 148.712899 157.163187 \nL 151.787279 167.781569 \nL 154.861659 179.274335 \nL 157.93604 187.26419 \nL 161.01042 192.083771 \nL 164.0848 195.383523 \nL 167.15918 197.795387 \nL 170.23356 199.780935 \nL 173.30794 201.578959 \nL 176.382321 203.060209 \nL 179.456701 204.474765 \nL 182.531081 206.051723 \nL 185.605461 207.579976 \nL 188.679841 209.03501 \nL 191.754221 210.36071 \nL 194.828601 211.136069 \nL 197.902982 211.538968 \nL 200.977362 212.514775 \nL 204.051742 214.379684 \nL 207.126122 216.358213 \nL 210.200502 217.753988 \nL 213.274882 218.639811 \nL 216.349263 219.305541 \nL 219.423643 219.878048 \nL 222.498023 220.482702 \nL 225.572403 221.160791 \nL 228.646783 221.756548 \nL 231.721163 222.132384 \nL 234.795544 222.297173 \nL 237.869924 222.361202 \nL 240.944304 222.486084 \nL 244.018684 222.744462 \nL 247.093064 223.05122 \nL 250.167444 223.307141 \nL 253.241825 223.480804 \nL 256.316205 223.566965 \nL 259.390585 223.607685 \nL 262.464965 223.69626 \nL 265.539345 223.873938 \nL 268.613725 224.081825 \nL 271.688106 224.246225 \nL 274.762486 224.353888 \nL 277.836866 224.426875 \nL 280.911246 224.477467 \nL 283.985626 224.508077 \nL 287.060006 224.523215 \nL 290.134387 224.530437 \nL 293.208767 224.538371 \nL 296.283147 224.550576 \nL 299.357527 224.56196 \nL 302.431907 224.565611 \nL 305.506287 224.559717 \nL 308.580668 224.54912 \nL 311.655048 224.542242 \nL 314.729428 224.541274 \nL 317.803808 224.538621 \nL 320.878188 224.530609 \nL 323.952568 224.527839 \nL 327.026949 224.543046 \nL 330.101329 224.57391 \nL 333.175709 224.605527 \nL 336.250089 224.62644 \nL 339.324469 224.636011 \nL 342.398849 224.639127 \n\" style=\"fill:none;stroke:#4c72b0;stroke-linecap:round;stroke-width:1.5;\"/>\n   </g>\n   <g id=\"patch_53\">\n    <path d=\"M 22.817031 224.64 \nL 22.817031 7.2 \n\" style=\"fill:none;stroke:#ffffff;stroke-linecap:square;stroke-linejoin:miter;stroke-width:1.25;\"/>\n   </g>\n   <g id=\"patch_54\">\n    <path d=\"M 357.617031 224.64 \nL 357.617031 7.2 \n\" style=\"fill:none;stroke:#ffffff;stroke-linecap:square;stroke-linejoin:miter;stroke-width:1.25;\"/>\n   </g>\n   <g id=\"patch_55\">\n    <path d=\"M 22.817031 224.64 \nL 357.617031 224.64 \n\" style=\"fill:none;stroke:#ffffff;stroke-linecap:square;stroke-linejoin:miter;stroke-width:1.25;\"/>\n   </g>\n   <g id=\"patch_56\">\n    <path d=\"M 22.817031 7.2 \nL 357.617031 7.2 \n\" style=\"fill:none;stroke:#ffffff;stroke-linecap:square;stroke-linejoin:miter;stroke-width:1.25;\"/>\n   </g>\n  </g>\n </g>\n <defs>\n  <clipPath id=\"p7b82e6a943\">\n   <rect height=\"217.44\" width=\"334.8\" x=\"22.817031\" y=\"7.2\"/>\n  </clipPath>\n </defs>\n</svg>\n",
      "image/png": "[encoded data removed]"
     },
     "metadata": {}
    }
   ],
   "source": [
    "print(\"mean\", data.windspeed.mean())\n",
    "print(\"median\", data.windspeed.median())\n",
    "print(\"max\", data.windspeed.max())\n",
    "print(\"unique\", len(data.windspeed.unique()))\n",
    "sns.set(color_codes=True)\n",
    "sns.distplot(data.windspeed)"
   ]
  },
  {
   "cell_type": "markdown",
   "metadata": {},
   "source": [
    "Der Datensatz beinhaltet 17379 Samples. 16 der 17 Features sind ohne Nullwerte, lediglich bei Windspeed gibt es nur 16817 Werte. Ebenso gibt es bei Windspeed na-Werte.\n",
    "\n",
    "Die fehlenden Werte bzw. die na-Werte könnten z.B. mit den Median oder den Mean ersetzt werden, da Mean und Median relativ nahe beieinander liegen. Allerdings muss dabei beachtet werden, dass diese Methode das Model beeinflussen kann. Alternativ kann man die Datensätze auch entfernen."
   ],
   "execution_count": null,
   "outputs": []
  },
  {
   "cell_type": "markdown",
   "metadata": {},
   "source": [
    "## 2. Encode Categorical Values"
   ],
   "execution_count": null,
   "outputs": []
  },
  {
   "cell_type": "code",
   "execution_count": 80,
   "metadata": {},
   "outputs": [],
   "source": [
    "# Categorical boolean mask\n",
    "categorical_feature_mask = data.dtypes==object"
   ]
  },
  {
   "cell_type": "code",
   "execution_count": 81,
   "metadata": {},
   "outputs": [],
   "source": [
    "# filter categorical columns using mask and turn it into a list\n",
    "categorical_cols = data.columns[categorical_feature_mask].tolist()"
   ]
  },
  {
   "cell_type": "code",
   "execution_count": 82,
   "metadata": {},
   "outputs": [
    {
     "output_type": "execute_result",
     "data": {
      "text/plain": "['dteday', 'season', 'weekday', 'workingday', 'weathersit']"
     },
     "metadata": {},
     "execution_count": 82
    }
   ],
   "source": [
    "categorical_cols"
   ]
  },
  {
   "cell_type": "markdown",
   "metadata": {},
   "source": [
    "Im Datensatz gibt es folgende Kategorische-Daten: 'dteday', 'season', 'weekday', 'workingday', 'weathersit'. Diese Features können wir z.B. mittels des One-Hot-Encoders zu einem numerischen Features umwandeln."
   ],
   "execution_count": null,
   "outputs": []
  },
  {
   "cell_type": "code",
   "execution_count": 83,
   "metadata": {},
   "outputs": [],
   "source": [
    "ohe = OneHotEncoder()"
   ]
  },
  {
   "cell_type": "markdown",
   "metadata": {},
   "source": [
    "Im Datensatz gibt es folgende Kategorische-Daten: 'dteday', 'season', 'weekday', 'workingday', 'weathersit'. \n",
    "Diese Features können wir z.B. mittels des One-Hot-Encoders zu einem numerischen Features umwandeln. Das Features 'dteday' ist in diesem Fall allerdings besonders da es ein Datum ist und der Datensatz 'yr' und 'mnth' bereits als numerische Features hat. \n",
    "Da dies so ist, würde ich die Spalte 'dteday' entfernen, da 'yr' und 'mnth' besser für die weitere Analyse geeignet sind."
   ],
   "execution_count": null,
   "outputs": []
  },
  {
   "cell_type": "code",
   "execution_count": 84,
   "metadata": {},
   "outputs": [
    {
     "output_type": "stream",
     "name": "stdout",
     "text": "['season', 'weekday', 'workingday', 'weathersit']\n"
    },
    {
     "output_type": "execute_result",
     "data": {
      "text/plain": "array([[0., 1., 0., ..., 0., 0., 0.],\n       [0., 1., 0., ..., 0., 0., 0.],\n       [0., 1., 0., ..., 0., 0., 0.],\n       ...,\n       [0., 1., 0., ..., 0., 0., 0.],\n       [0., 1., 0., ..., 0., 0., 0.],\n       [0., 1., 0., ..., 0., 0., 0.]])"
     },
     "metadata": {},
     "execution_count": 84
    }
   ],
   "source": [
    "categorical_cols.remove(\"dteday\")\n",
    "print(categorical_cols)\n",
    "ohe.fit(data[categorical_cols])\n",
    "one_hot_encoded_data = ohe.transform(data[categorical_cols]).toarray()\n",
    "one_hot_encoded_data"
   ]
  },
  {
   "cell_type": "markdown",
   "metadata": {},
   "source": [
    "## Standardize data / Feature Scaling\n",
    "Dieser Schritt beinhaltet das Skalieren aller numerischen Daten. Wir können hierfür z.B. den MinMaxScaler oder den RobustScaler verwenden. "
   ],
   "execution_count": null,
   "outputs": []
  },
  {
   "cell_type": "code",
   "execution_count": 85,
   "metadata": {},
   "outputs": [],
   "source": [
    "numeric_feature_mask = data.dtypes!=object"
   ]
  },
  {
   "cell_type": "code",
   "execution_count": 86,
   "metadata": {},
   "outputs": [],
   "source": [
    "numeric_cols = data.columns[numeric_feature_mask].tolist()"
   ]
  },
  {
   "cell_type": "code",
   "execution_count": 87,
   "metadata": {},
   "outputs": [
    {
     "output_type": "execute_result",
     "data": {
      "text/plain": "['Unnamed: 0',\n 'instant',\n 'yr',\n 'mnth',\n 'hr',\n 'holiday',\n 'temp',\n 'atemp',\n 'hum',\n 'casual',\n 'registered',\n 'cnt',\n 'windspeed']"
     },
     "metadata": {},
     "execution_count": 87
    }
   ],
   "source": [
    "numeric_cols"
   ]
  },
  {
   "cell_type": "code",
   "execution_count": 88,
   "metadata": {},
   "outputs": [],
   "source": [
    "robustScaler = RobustScaler()\n",
    "robustScaler.fit(data[numeric_cols])\n",
    "scaled = robustScaler.transform(data[numeric_cols])"
   ]
  },
  {
   "cell_type": "code",
   "execution_count": 89,
   "metadata": {},
   "outputs": [
    {
     "output_type": "execute_result",
     "data": {
      "text/plain": "array([[-1.        , -1.        , -1.        , ..., -0.5483871 ,\n        -0.52282158, -1.3002681 ],\n       [-0.99988491, -0.99988491, -1.        , ..., -0.44623656,\n        -0.42323651, -1.3002681 ],\n       [-0.99976982, -0.99976982, -1.        , ..., -0.47311828,\n        -0.45643154, -1.3002681 ],\n       ...,\n       [ 0.99976982,  0.99976982,  0.        , ..., -0.17204301,\n        -0.21576763, -0.1997319 ],\n       [ 0.99988491,  0.99988491,  0.        , ..., -0.36021505,\n        -0.33609959, -0.40013405],\n       [ 1.        ,  1.        ,  0.        , ..., -0.41935484,\n        -0.38589212, -0.40013405]])"
     },
     "metadata": {},
     "execution_count": 89
    }
   ],
   "source": [
    "scaled"
   ]
  }
 ]
}