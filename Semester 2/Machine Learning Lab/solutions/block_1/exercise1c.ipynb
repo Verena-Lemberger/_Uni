{
 "nbformat": 4,
 "nbformat_minor": 2,
 "metadata": {
  "language_info": {
   "name": "python",
   "codemirror_mode": {
    "name": "ipython",
    "version": 3
   },
   "version": "3.7.6-final"
  },
  "orig_nbformat": 2,
  "file_extension": ".py",
  "mimetype": "text/x-python",
  "name": "python",
  "npconvert_exporter": "python",
  "pygments_lexer": "ipython3",
  "version": 3,
  "kernelspec": {
   "name": "python37664bit17a369aea379459798f6ccae7683a0c4",
   "display_name": "Python 3.7.6 64-bit"
  }
 },
 "cells": [
  {
   "cell_type": "markdown",
   "metadata": {},
   "source": [
    "# Aufgabe\n",
    "Bearbeitet die Aufgabenstellung aus Aufgabe 1a.1, aber setzt euren Vorverarbeitungsprozess mit Hilfe von\n",
    "sklearn-Pipelines um. Achtet dabei (a) auf die Reihenfolge der Pipeline-Schritte und (b) darauf, dass ihr die\n",
    "Pipelines an den richtigen Daten fittet."
   ],
   "execution_count": null,
   "outputs": []
  },
  {
   "cell_type": "code",
   "execution_count": 53,
   "metadata": {},
   "outputs": [],
   "source": [
    "import pandas as pd\n",
    "from sklearn.pipeline import Pipeline \n",
    "from sklearn.impute import SimpleImputer\n",
    "from sklearn.pipeline import FeatureUnion\n",
    "from sklearn.model_selection import train_test_split\n",
    "from sklearn.preprocessing import MinMaxScaler, OneHotEncoder, RobustScaler"
   ]
  },
  {
   "cell_type": "code",
   "execution_count": 54,
   "metadata": {},
   "outputs": [],
   "source": [
    "# helper class\n",
    "# custom selector for selecting numeric and non-numeric features\n",
    "class ColumnSelector:\n",
    "    def __init__(self, select_numeric = True):\n",
    "        self.select_numeric = select_numeric\n",
    "    \n",
    "    def fit(self, X, y = None):\n",
    "        return self # because we do not need to fit the data, so we can simply return it\n",
    "\n",
    "    def transform(self, X, y = None):\n",
    "        if self.select_numeric:\n",
    "            return X.select_dtypes(include=[\"number\"])\n",
    "        else:\n",
    "            return X.select_dtypes(exclude=[\"number\"])"
   ]
  },
  {
   "cell_type": "code",
   "execution_count": 55,
   "metadata": {},
   "outputs": [],
   "source": [
    "data = pd.read_csv(\"../../data/bikesharing_simple.csv\")"
   ]
  },
  {
   "cell_type": "code",
   "execution_count": 56,
   "metadata": {},
   "outputs": [
    {
     "output_type": "execute_result",
     "data": {
      "text/plain": "Unnamed: 0    False\ninstant       False\ndteday        False\nseason        False\nyr            False\nmnth          False\nhr            False\nholiday       False\nweekday       False\nworkingday    False\nweathersit    False\ntemp          False\natemp         False\nhum           False\ncasual        False\nregistered    False\ncnt           False\nwindspeed      True\ndtype: bool"
     },
     "metadata": {},
     "execution_count": 56
    }
   ],
   "source": [
    "data.isna().any()"
   ]
  },
  {
   "cell_type": "code",
   "execution_count": 57,
   "metadata": {},
   "outputs": [
    {
     "output_type": "execute_result",
     "data": {
      "text/plain": "['Unnamed: 0',\n 'instant',\n 'dteday',\n 'season',\n 'yr',\n 'mnth',\n 'hr',\n 'holiday',\n 'weekday',\n 'workingday',\n 'weathersit',\n 'temp',\n 'atemp',\n 'hum',\n 'casual',\n 'registered',\n 'cnt',\n 'windspeed']"
     },
     "metadata": {},
     "execution_count": 57
    }
   ],
   "source": [
    "list(data.columns)"
   ]
  },
  {
   "cell_type": "code",
   "execution_count": 58,
   "metadata": {},
   "outputs": [
    {
     "output_type": "execute_result",
     "data": {
      "text/plain": "['Unnamed: 0',\n 'dteday',\n 'season',\n 'yr',\n 'mnth',\n 'hr',\n 'holiday',\n 'weekday',\n 'workingday',\n 'weathersit',\n 'temp',\n 'atemp',\n 'hum',\n 'cnt',\n 'windspeed']"
     },
     "metadata": {},
     "execution_count": 58
    }
   ],
   "source": [
    "# remove unused columns\n",
    "del data['instant']\n",
    "\n",
    "# because the output feature will be cnt we have to remove casual and registered, because the those will sum up to cnt\n",
    "del data['casual']\n",
    "del data['registered']\n",
    "\n",
    "list(data.columns)"
   ]
  },
  {
   "cell_type": "code",
   "execution_count": 59,
   "metadata": {},
   "outputs": [],
   "source": [
    "input_features = [\n",
    "    'dteday',\n",
    "    'season',\n",
    "    'yr',\n",
    "    'mnth',\n",
    "    'hr',\n",
    "    'holiday',\n",
    "    'weekday',\n",
    "    'workingday',\n",
    "    'weathersit',\n",
    "    'temp',\n",
    "    'atemp',\n",
    "    'hum',\n",
    "    'windspeed'\n",
    "]\n",
    "\n",
    "output_features = [\n",
    "    'cnt'\n",
    "]"
   ]
  },
  {
   "cell_type": "code",
   "execution_count": 60,
   "metadata": {},
   "outputs": [],
   "source": [
    "# input and output matrix\n",
    "X = data[input_features]\n",
    "y = data[output_features]"
   ]
  },
  {
   "cell_type": "code",
   "execution_count": 61,
   "metadata": {},
   "outputs": [
    {
     "output_type": "execute_result",
     "data": {
      "text/plain": "       dteday  season  yr  mnth  hr  holiday   weekday workingday weathersit  \\\n0  2011-01-01  spring   0     1   0        0  Saturday         No      Clear   \n1  2011-01-01  spring   0     1   1        0  Saturday         No      Clear   \n2  2011-01-01  spring   0     1   2        0  Saturday         No      Clear   \n3  2011-01-01  spring   0     1   3        0  Saturday         No      Clear   \n4  2011-01-01  spring   0     1   4        0  Saturday         No      Clear   \n\n   temp   atemp   hum  windspeed  \n0  0.24  0.2879  0.81        0.0  \n1  0.22  0.2727  0.80        0.0  \n2  0.22  0.2727  0.80        0.0  \n3  0.24  0.2879  0.75        0.0  \n4  0.24  0.2879  0.75        0.0  ",
      "text/html": "<div>\n<style scoped>\n    .dataframe tbody tr th:only-of-type {\n        vertical-align: middle;\n    }\n\n    .dataframe tbody tr th {\n        vertical-align: top;\n    }\n\n    .dataframe thead th {\n        text-align: right;\n    }\n</style>\n<table border=\"1\" class=\"dataframe\">\n  <thead>\n    <tr style=\"text-align: right;\">\n      <th></th>\n      <th>dteday</th>\n      <th>season</th>\n      <th>yr</th>\n      <th>mnth</th>\n      <th>hr</th>\n      <th>holiday</th>\n      <th>weekday</th>\n      <th>workingday</th>\n      <th>weathersit</th>\n      <th>temp</th>\n      <th>atemp</th>\n      <th>hum</th>\n      <th>windspeed</th>\n    </tr>\n  </thead>\n  <tbody>\n    <tr>\n      <th>0</th>\n      <td>2011-01-01</td>\n      <td>spring</td>\n      <td>0</td>\n      <td>1</td>\n      <td>0</td>\n      <td>0</td>\n      <td>Saturday</td>\n      <td>No</td>\n      <td>Clear</td>\n      <td>0.24</td>\n      <td>0.2879</td>\n      <td>0.81</td>\n      <td>0.0</td>\n    </tr>\n    <tr>\n      <th>1</th>\n      <td>2011-01-01</td>\n      <td>spring</td>\n      <td>0</td>\n      <td>1</td>\n      <td>1</td>\n      <td>0</td>\n      <td>Saturday</td>\n      <td>No</td>\n      <td>Clear</td>\n      <td>0.22</td>\n      <td>0.2727</td>\n      <td>0.80</td>\n      <td>0.0</td>\n    </tr>\n    <tr>\n      <th>2</th>\n      <td>2011-01-01</td>\n      <td>spring</td>\n      <td>0</td>\n      <td>1</td>\n      <td>2</td>\n      <td>0</td>\n      <td>Saturday</td>\n      <td>No</td>\n      <td>Clear</td>\n      <td>0.22</td>\n      <td>0.2727</td>\n      <td>0.80</td>\n      <td>0.0</td>\n    </tr>\n    <tr>\n      <th>3</th>\n      <td>2011-01-01</td>\n      <td>spring</td>\n      <td>0</td>\n      <td>1</td>\n      <td>3</td>\n      <td>0</td>\n      <td>Saturday</td>\n      <td>No</td>\n      <td>Clear</td>\n      <td>0.24</td>\n      <td>0.2879</td>\n      <td>0.75</td>\n      <td>0.0</td>\n    </tr>\n    <tr>\n      <th>4</th>\n      <td>2011-01-01</td>\n      <td>spring</td>\n      <td>0</td>\n      <td>1</td>\n      <td>4</td>\n      <td>0</td>\n      <td>Saturday</td>\n      <td>No</td>\n      <td>Clear</td>\n      <td>0.24</td>\n      <td>0.2879</td>\n      <td>0.75</td>\n      <td>0.0</td>\n    </tr>\n  </tbody>\n</table>\n</div>"
     },
     "metadata": {},
     "execution_count": 61
    }
   ],
   "source": [
    "X.head()"
   ]
  },
  {
   "cell_type": "code",
   "execution_count": 62,
   "metadata": {},
   "outputs": [
    {
     "output_type": "execute_result",
     "data": {
      "text/plain": "   cnt\n0   16\n1   40\n2   32\n3   13\n4    1",
      "text/html": "<div>\n<style scoped>\n    .dataframe tbody tr th:only-of-type {\n        vertical-align: middle;\n    }\n\n    .dataframe tbody tr th {\n        vertical-align: top;\n    }\n\n    .dataframe thead th {\n        text-align: right;\n    }\n</style>\n<table border=\"1\" class=\"dataframe\">\n  <thead>\n    <tr style=\"text-align: right;\">\n      <th></th>\n      <th>cnt</th>\n    </tr>\n  </thead>\n  <tbody>\n    <tr>\n      <th>0</th>\n      <td>16</td>\n    </tr>\n    <tr>\n      <th>1</th>\n      <td>40</td>\n    </tr>\n    <tr>\n      <th>2</th>\n      <td>32</td>\n    </tr>\n    <tr>\n      <th>3</th>\n      <td>13</td>\n    </tr>\n    <tr>\n      <th>4</th>\n      <td>1</td>\n    </tr>\n  </tbody>\n</table>\n</div>"
     },
     "metadata": {},
     "execution_count": 62
    }
   ],
   "source": [
    "y.head()"
   ]
  },
  {
   "cell_type": "code",
   "execution_count": 63,
   "metadata": {},
   "outputs": [],
   "source": [
    "# test_size -> # of test samples\n",
    "# random_state -> seed\n",
    "X_train, X_test, y_train, y_test = train_test_split(X, y, random_state = 123, test_size = 0.2)"
   ]
  },
  {
   "cell_type": "code",
   "execution_count": 64,
   "metadata": {},
   "outputs": [
    {
     "output_type": "stream",
     "name": "stdout",
     "text": "13903 3476 13903 3476\n"
    }
   ],
   "source": [
    "print(X_train.shape[0], X_test.shape[0], y_train.shape[0], y_test.shape[0])"
   ]
  },
  {
   "cell_type": "code",
   "execution_count": 65,
   "metadata": {},
   "outputs": [],
   "source": [
    "x_pipeline = FeatureUnion(transformer_list=[\n",
    "    (\"numeric pipeline\", Pipeline(steps=[\n",
    "        (\"select numeric\", ColumnSelector(select_numeric=True)), # select all numeric features\n",
    "        (\"impute data\", SimpleImputer(strategy=\"median\")), # replace null values with the median\n",
    "        (\"scale data\", RobustScaler()) # scale the numeric values\n",
    "    ])),\n",
    "    (\"non-numeric pipeline\", Pipeline(steps=[\n",
    "        (\"select non-numeric\", ColumnSelector(select_numeric=False)), # select all non-numeric features\n",
    "        (\"encode\", OneHotEncoder()) # use one-hot-encoding \n",
    "    ])),\n",
    "])"
   ]
  },
  {
   "cell_type": "code",
   "execution_count": 66,
   "metadata": {},
   "outputs": [],
   "source": [
    "x_pipeline.fit(X_train)\n",
    "X_train_p = x_pipeline.transform(X_train) # preprocessed data"
   ]
  },
  {
   "cell_type": "code",
   "execution_count": 68,
   "metadata": {},
   "outputs": [],
   "source": [
    "# For our test data, we only need to run it through the transform pipeline\n",
    "X_test_p = x_pipeline.transform(X_test)"
   ]
  },
  {
   "cell_type": "code",
   "execution_count": 71,
   "metadata": {},
   "outputs": [
    {
     "output_type": "stream",
     "name": "stdout",
     "text": "(3476, 756)\n"
    }
   ],
   "source": [
    "print(X_test_p.shape)"
   ]
  },
  {
   "cell_type": "code",
   "execution_count": null,
   "metadata": {},
   "outputs": [],
   "source": []
  }
 ]
}