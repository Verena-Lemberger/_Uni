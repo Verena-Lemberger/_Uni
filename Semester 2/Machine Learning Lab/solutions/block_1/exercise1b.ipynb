{
 "nbformat": 4,
 "nbformat_minor": 2,
 "metadata": {
  "language_info": {
   "name": "python",
   "codemirror_mode": {
    "name": "ipython",
    "version": 3
   },
   "version": "3.7.6-final"
  },
  "orig_nbformat": 2,
  "file_extension": ".py",
  "mimetype": "text/x-python",
  "name": "python",
  "npconvert_exporter": "python",
  "pygments_lexer": "ipython3",
  "version": 3,
  "kernelspec": {
   "name": "python37664bit17a369aea379459798f6ccae7683a0c4",
   "display_name": "Python 3.7.6 64-bit"
  }
 },
 "cells": [
  {
   "cell_type": "markdown",
   "metadata": {},
   "source": [
    "# Aufgabe\n",
    "Verwendet in dieser Aufgabe das bikesharing.csv Datenset. Entwickelt auf Basis dieses Datensets eine\n",
    "Strategie zur Vorverarbeitung der Daten. Ziel eurer Strategie soll es sein, die Daten für Machine Learning\n",
    "vorzubereiten"
   ]
  },
  {
   "cell_type": "code",
   "execution_count": 2,
   "metadata": {},
   "outputs": [],
   "source": [
    "import pandas as pd\n",
    "import seaborn as sns\n",
    "from sklearn.decomposition import PCA\n",
    "from sklearn.model_selection import train_test_split\n",
    "from sklearn.preprocessing import OneHotEncoder, RobustScaler"
   ]
  },
  {
   "cell_type": "code",
   "execution_count": 30,
   "metadata": {},
   "outputs": [],
   "source": [
    "data = pd.read_csv(\"../../data/bikesharing.csv\")"
   ]
  },
  {
   "cell_type": "code",
   "execution_count": 4,
   "metadata": {},
   "outputs": [
    {
     "output_type": "execute_result",
     "data": {
      "text/plain": "   Unnamed: 0  instant      dteday  season  yr  mnth  hr  holiday   weekday  \\\n0           0        1  2011-01-01  spring   0     1   0        0  Saturday   \n1           1        2  2011-01-01  spring   0     1   1        0  Saturday   \n2           2        3  2011-01-01  spring   0     1   2        0  Saturday   \n\n  workingday weathersit  temp   atemp   hum  windspeed  casual  registered  \\\n0         No      Clear   NaN  0.2879  0.81        0.0     3.0        13.0   \n1         No      Clear  0.22  0.2727  0.80        0.0     8.0        32.0   \n2         No      Clear  0.22  0.2727   NaN        NaN     5.0        27.0   \n\n    cnt  \n0  16.0  \n1  40.0  \n2  32.0  ",
      "text/html": "<div>\n<style scoped>\n    .dataframe tbody tr th:only-of-type {\n        vertical-align: middle;\n    }\n\n    .dataframe tbody tr th {\n        vertical-align: top;\n    }\n\n    .dataframe thead th {\n        text-align: right;\n    }\n</style>\n<table border=\"1\" class=\"dataframe\">\n  <thead>\n    <tr style=\"text-align: right;\">\n      <th></th>\n      <th>Unnamed: 0</th>\n      <th>instant</th>\n      <th>dteday</th>\n      <th>season</th>\n      <th>yr</th>\n      <th>mnth</th>\n      <th>hr</th>\n      <th>holiday</th>\n      <th>weekday</th>\n      <th>workingday</th>\n      <th>weathersit</th>\n      <th>temp</th>\n      <th>atemp</th>\n      <th>hum</th>\n      <th>windspeed</th>\n      <th>casual</th>\n      <th>registered</th>\n      <th>cnt</th>\n    </tr>\n  </thead>\n  <tbody>\n    <tr>\n      <th>0</th>\n      <td>0</td>\n      <td>1</td>\n      <td>2011-01-01</td>\n      <td>spring</td>\n      <td>0</td>\n      <td>1</td>\n      <td>0</td>\n      <td>0</td>\n      <td>Saturday</td>\n      <td>No</td>\n      <td>Clear</td>\n      <td>NaN</td>\n      <td>0.2879</td>\n      <td>0.81</td>\n      <td>0.0</td>\n      <td>3.0</td>\n      <td>13.0</td>\n      <td>16.0</td>\n    </tr>\n    <tr>\n      <th>1</th>\n      <td>1</td>\n      <td>2</td>\n      <td>2011-01-01</td>\n      <td>spring</td>\n      <td>0</td>\n      <td>1</td>\n      <td>1</td>\n      <td>0</td>\n      <td>Saturday</td>\n      <td>No</td>\n      <td>Clear</td>\n      <td>0.22</td>\n      <td>0.2727</td>\n      <td>0.80</td>\n      <td>0.0</td>\n      <td>8.0</td>\n      <td>32.0</td>\n      <td>40.0</td>\n    </tr>\n    <tr>\n      <th>2</th>\n      <td>2</td>\n      <td>3</td>\n      <td>2011-01-01</td>\n      <td>spring</td>\n      <td>0</td>\n      <td>1</td>\n      <td>2</td>\n      <td>0</td>\n      <td>Saturday</td>\n      <td>No</td>\n      <td>Clear</td>\n      <td>0.22</td>\n      <td>0.2727</td>\n      <td>NaN</td>\n      <td>NaN</td>\n      <td>5.0</td>\n      <td>27.0</td>\n      <td>32.0</td>\n    </tr>\n  </tbody>\n</table>\n</div>"
     },
     "metadata": {},
     "execution_count": 4
    }
   ],
   "source": [
    "data.head(3)"
   ]
  },
  {
   "cell_type": "code",
   "execution_count": 5,
   "metadata": {},
   "outputs": [
    {
     "output_type": "stream",
     "name": "stdout",
     "text": "<class 'pandas.core.frame.DataFrame'>\nRangeIndex: 17379 entries, 0 to 17378\nData columns (total 18 columns):\n #   Column      Non-Null Count  Dtype  \n---  ------      --------------  -----  \n 0   Unnamed: 0  17379 non-null  int64  \n 1   instant     17379 non-null  int64  \n 2   dteday      17379 non-null  object \n 3   season      17379 non-null  object \n 4   yr          17379 non-null  int64  \n 5   mnth        17379 non-null  int64  \n 6   hr          17379 non-null  int64  \n 7   holiday     17379 non-null  int64  \n 8   weekday     17379 non-null  object \n 9   workingday  17379 non-null  object \n 10  weathersit  15844 non-null  object \n 11  temp        15844 non-null  float64\n 12  atemp       15748 non-null  float64\n 13  hum         15835 non-null  float64\n 14  windspeed   15774 non-null  float64\n 15  casual      15816 non-null  float64\n 16  registered  15867 non-null  float64\n 17  cnt         15803 non-null  float64\ndtypes: float64(7), int64(6), object(5)\nmemory usage: 2.4+ MB\n"
    }
   ],
   "source": [
    "data.info()"
   ]
  },
  {
   "cell_type": "markdown",
   "metadata": {},
   "source": [
    "## 1. Missing Values"
   ]
  },
  {
   "cell_type": "code",
   "execution_count": 6,
   "metadata": {},
   "outputs": [
    {
     "output_type": "execute_result",
     "data": {
      "text/plain": "Unnamed: 0    False\ninstant       False\ndteday        False\nseason        False\nyr            False\nmnth          False\nhr            False\nholiday       False\nweekday       False\nworkingday    False\nweathersit     True\ntemp           True\natemp          True\nhum            True\nwindspeed      True\ncasual         True\nregistered     True\ncnt            True\ndtype: bool"
     },
     "metadata": {},
     "execution_count": 6
    }
   ],
   "source": [
    "data.isna().any()"
   ]
  },
  {
   "cell_type": "code",
   "execution_count": 7,
   "metadata": {},
   "outputs": [
    {
     "output_type": "execute_result",
     "data": {
      "text/plain": "Unnamed: 0    False\ninstant       False\ndteday        False\nseason        False\nyr            False\nmnth          False\nhr            False\nholiday       False\nweekday       False\nworkingday    False\nweathersit     True\ntemp           True\natemp          True\nhum            True\nwindspeed      True\ncasual         True\nregistered     True\ncnt            True\ndtype: bool"
     },
     "metadata": {},
     "execution_count": 7
    }
   ],
   "source": [
    "data.isnull().any()"
   ]
  },
  {
   "cell_type": "code",
   "execution_count": 8,
   "metadata": {},
   "outputs": [],
   "source": [
    "null_columns = data.columns[data.isnull().any()].tolist()"
   ]
  },
  {
   "cell_type": "code",
   "execution_count": 9,
   "metadata": {},
   "outputs": [
    {
     "output_type": "execute_result",
     "data": {
      "text/plain": "['weathersit',\n 'temp',\n 'atemp',\n 'hum',\n 'windspeed',\n 'casual',\n 'registered',\n 'cnt']"
     },
     "metadata": {},
     "execution_count": 9
    }
   ],
   "source": [
    "null_columns"
   ]
  },
  {
   "cell_type": "code",
   "execution_count": 10,
   "metadata": {},
   "outputs": [
    {
     "output_type": "execute_result",
     "data": {
      "text/plain": "Unnamed: 0       0\ninstant          0\ndteday           0\nseason           0\nyr               0\nmnth             0\nhr               0\nholiday          0\nweekday          0\nworkingday       0\nweathersit    1535\ntemp          1535\natemp         1631\nhum           1544\nwindspeed     1605\ncasual        1563\nregistered    1512\ncnt           1576\ndtype: int64"
     },
     "metadata": {},
     "execution_count": 10
    }
   ],
   "source": [
    "count_nan = len(data) - data.count()\n",
    "count_nan"
   ]
  },
  {
   "cell_type": "markdown",
   "metadata": {},
   "source": [
    "Im Datensatz gibt es acht Features, welche null- oder nan-Werte beinhalten. Die Werte können z.B. mit den Mean oder Median ersetzt werden. Ein komplettes entfernen der Daten ist in diesem Fall nicht zu empfehlen, da ansonsten viele Informationen verloren gehen."
   ]
  },
  {
   "cell_type": "markdown",
   "metadata": {},
   "source": [
    "## 2. Encode Categorical Values"
   ]
  },
  {
   "cell_type": "code",
   "execution_count": 31,
   "metadata": {},
   "outputs": [],
   "source": [
    "ohe = OneHotEncoder()"
   ]
  },
  {
   "cell_type": "code",
   "execution_count": 32,
   "metadata": {},
   "outputs": [
    {
     "output_type": "execute_result",
     "data": {
      "text/plain": "['dteday', 'season', 'weekday', 'workingday', 'weathersit']"
     },
     "metadata": {},
     "execution_count": 32
    }
   ],
   "source": [
    "categorical_feature_mask = data.dtypes==object\n",
    "categorical_cols = data.columns[categorical_feature_mask].tolist()\n",
    "categorical_cols"
   ]
  },
  {
   "cell_type": "code",
   "execution_count": 38,
   "metadata": {},
   "outputs": [
    {
     "output_type": "execute_result",
     "data": {
      "text/plain": "dteday        False\nseason        False\nweekday       False\nworkingday    False\nweathersit     True\ndtype: bool"
     },
     "metadata": {},
     "execution_count": 38
    }
   ],
   "source": [
    "# check if the data contains nan's \n",
    "data[categorical_cols].isna().any()"
   ]
  },
  {
   "cell_type": "code",
   "execution_count": 39,
   "metadata": {},
   "outputs": [
    {
     "output_type": "execute_result",
     "data": {
      "text/plain": "Clear        10380\nCloudy        4157\nRainy         1304\nHeavyrain        3\nName: weathersit, dtype: int64"
     },
     "metadata": {},
     "execution_count": 39
    }
   ],
   "source": [
    "# because the weathersit column contains na values, we need to replace them. \n",
    "# the replacement is the most common feature \n",
    "data.weathersit.value_counts()"
   ]
  },
  {
   "cell_type": "code",
   "execution_count": 44,
   "metadata": {},
   "outputs": [],
   "source": [
    "data.weathersit = data.weathersit.fillna(\"Clear\")"
   ]
  },
  {
   "cell_type": "code",
   "execution_count": 46,
   "metadata": {},
   "outputs": [
    {
     "output_type": "execute_result",
     "data": {
      "text/plain": "0"
     },
     "metadata": {},
     "execution_count": 46
    }
   ],
   "source": [
    "data.weathersit.isnull().sum()"
   ]
  },
  {
   "cell_type": "code",
   "execution_count": 47,
   "metadata": {},
   "outputs": [
    {
     "output_type": "stream",
     "name": "stdout",
     "text": "['season', 'weekday', 'workingday', 'weathersit']\n"
    },
    {
     "output_type": "execute_result",
     "data": {
      "text/plain": "array([[0., 1., 0., ..., 0., 0., 0.],\n       [0., 1., 0., ..., 0., 0., 0.],\n       [0., 1., 0., ..., 0., 0., 0.],\n       ...,\n       [0., 1., 0., ..., 0., 0., 0.],\n       [0., 1., 0., ..., 0., 0., 0.],\n       [0., 1., 0., ..., 0., 0., 0.]])"
     },
     "metadata": {},
     "execution_count": 47
    }
   ],
   "source": [
    "categorical_cols.remove(\"dteday\")\n",
    "print(categorical_cols)\n",
    "ohe.fit(data[categorical_cols])\n",
    "one_hot_encoded_data = ohe.transform(data[categorical_cols]).toarray()\n",
    "one_hot_encoded_data"
   ]
  },
  {
   "cell_type": "markdown",
   "metadata": {},
   "source": [
    "## 3. Standardize data / Feature Scaling\n",
    "Dieser Schritt beinhaltet das Skalieren aller numerischen Daten. Wir können hierfür z.B. den MinMaxScaler oder den RobustScaler verwenden. "
   ]
  },
  {
   "cell_type": "code",
   "execution_count": 59,
   "metadata": {},
   "outputs": [
    {
     "output_type": "execute_result",
     "data": {
      "text/plain": "['Unnamed: 0',\n 'instant',\n 'yr',\n 'mnth',\n 'hr',\n 'holiday',\n 'temp',\n 'atemp',\n 'hum',\n 'windspeed',\n 'casual',\n 'registered',\n 'cnt']"
     },
     "metadata": {},
     "execution_count": 59
    }
   ],
   "source": [
    "numeric_feature_mask = data.dtypes!=object\n",
    "numeric_cols = data.columns[numeric_feature_mask].tolist()\n",
    "numeric_cols"
   ]
  },
  {
   "cell_type": "code",
   "execution_count": 60,
   "metadata": {},
   "outputs": [],
   "source": [
    "# remove the 'Unnamed: 0' column\n",
    "numeric_cols.remove('Unnamed: 0')"
   ]
  },
  {
   "cell_type": "code",
   "execution_count": 61,
   "metadata": {},
   "outputs": [
    {
     "output_type": "execute_result",
     "data": {
      "text/plain": "['instant',\n 'yr',\n 'mnth',\n 'hr',\n 'holiday',\n 'temp',\n 'atemp',\n 'hum',\n 'windspeed',\n 'casual',\n 'registered',\n 'cnt']"
     },
     "metadata": {},
     "execution_count": 61
    }
   ],
   "source": [
    "numeric_cols"
   ]
  },
  {
   "cell_type": "code",
   "execution_count": 62,
   "metadata": {},
   "outputs": [],
   "source": [
    "robustScaler = RobustScaler()\n",
    "robustScaler.fit(data[numeric_cols])\n",
    "scaled = robustScaler.transform(data[numeric_cols])"
   ]
  },
  {
   "cell_type": "code",
   "execution_count": 63,
   "metadata": {},
   "outputs": [
    {
     "output_type": "execute_result",
     "data": {
      "text/plain": "array([[-1.        , -1.        , -1.        , ..., -0.31818182,\n        -0.55135135, -0.52083333],\n       [-0.99988491, -1.        , -1.        , ..., -0.20454545,\n        -0.44864865, -0.42083333],\n       [-0.99976982, -1.        , -1.        , ..., -0.27272727,\n        -0.47567568, -0.45416667],\n       ...,\n       [ 0.99976982,  0.        ,  0.83333333, ..., -0.22727273,\n        -0.17297297, -0.2125    ],\n       [ 0.99988491,  0.        ,  0.83333333, ..., -0.09090909,\n        -0.36216216, -0.33333333],\n       [ 1.        ,  0.        ,  0.83333333, ..., -0.11363636,\n        -0.42162162, -0.38333333]])"
     },
     "metadata": {},
     "execution_count": 63
    }
   ],
   "source": [
    "scaled"
   ]
  },
  {
   "cell_type": "code",
   "execution_count": null,
   "metadata": {},
   "outputs": [],
   "source": []
  }
 ]
}