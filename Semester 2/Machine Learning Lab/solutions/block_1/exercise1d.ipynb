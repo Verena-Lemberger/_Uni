{
 "nbformat": 4,
 "nbformat_minor": 2,
 "metadata": {
  "language_info": {
   "name": "python",
   "codemirror_mode": {
    "name": "ipython",
    "version": 3
   },
   "version": "3.7.6-final"
  },
  "orig_nbformat": 2,
  "file_extension": ".py",
  "mimetype": "text/x-python",
  "name": "python",
  "npconvert_exporter": "python",
  "pygments_lexer": "ipython3",
  "version": 3,
  "kernelspec": {
   "name": "python37664bit17a369aea379459798f6ccae7683a0c4",
   "display_name": "Python 3.7.6 64-bit"
  }
 },
 "cells": [
  {
   "cell_type": "markdown",
   "metadata": {},
   "source": [
    "# Aufgabe\n",
    "Bearbeitet die Aufgabenstellung aus Aufgabe 1a.1, aber setzt euren Vorverarbeitungsprozess mit Hilfe von\n",
    "sklearn-Pipelines um. Achtet dabei (a) auf die Reihenfolge der Pipeline-Schritte und (b) darauf, dass ihr die\n",
    "Pipelines an den richtigen Daten fittet."
   ]
  },
  {
   "cell_type": "code",
   "execution_count": 143,
   "metadata": {},
   "outputs": [],
   "source": [
    "import pandas as pd\n",
    "import seaborn as sns\n",
    "from sklearn.pipeline import Pipeline \n",
    "from sklearn.linear_model import LinearRegression, Lasso\n",
    "from sklearn.model_selection import train_test_split"
   ]
  },
  {
   "cell_type": "code",
   "execution_count": 120,
   "metadata": {},
   "outputs": [],
   "source": [
    "data = pd.read_csv(\"../../data/socr.csv\")"
   ]
  },
  {
   "cell_type": "code",
   "execution_count": 121,
   "metadata": {},
   "outputs": [
    {
     "output_type": "execute_result",
     "data": {
      "text/plain": "   Team = BAL  Team = CWS  Team = ANA  Team = BOS  Team = CLE  Team = OAK  \\\n0           1           0           0           0           0           0   \n1           1           0           0           0           0           0   \n2           1           0           0           0           0           0   \n3           1           0           0           0           0           0   \n4           1           0           0           0           0           0   \n5           1           0           0           0           0           0   \n6           1           0           0           0           0           0   \n7           1           0           0           0           0           0   \n8           1           0           0           0           0           0   \n9           1           0           0           0           0           0   \n\n   Team = NYY  Team = DET  Team = SEA  Team = TB  ...  \\\n0           0           0           0          0  ...   \n1           0           0           0          0  ...   \n2           0           0           0          0  ...   \n3           0           0           0          0  ...   \n4           0           0           0          0  ...   \n5           0           0           0          0  ...   \n6           0           0           0          0  ...   \n7           0           0           0          0  ...   \n8           0           0           0          0  ...   \n9           0           0           0          0  ...   \n\n   Position = Second_Baseman  Position = Shortstop  Position = Third_Baseman  \\\n0                          0                     0                         0   \n1                          0                     0                         0   \n2                          0                     0                         0   \n3                          0                     0                         0   \n4                          0                     0                         0   \n5                          1                     0                         0   \n6                          0                     1                         0   \n7                          0                     0                         1   \n8                          0                     0                         1   \n9                          0                     0                         0   \n\n   Position = Outfielder  Position = Designated_Hitter  \\\n0                      0                             0   \n1                      0                             0   \n2                      0                             0   \n3                      0                             0   \n4                      0                             0   \n5                      0                             0   \n6                      0                             0   \n7                      0                             0   \n8                      0                             0   \n9                      1                             0   \n\n   Position = Starting_Pitcher  Position = Relief_Pitcher  Height(inches)  \\\n0                            0                          0              74   \n1                            0                          0              74   \n2                            0                          0              72   \n3                            0                          0              72   \n4                            0                          0              73   \n5                            0                          0              69   \n6                            0                          0              69   \n7                            0                          0              71   \n8                            0                          0              76   \n9                            0                          0              71   \n\n   Weight(pounds)   Age   \n0           180.0  22.99  \n1           215.0  34.69  \n2           210.0  30.78  \n3           210.0  35.43  \n4           188.0  35.71  \n5           176.0  29.39  \n6           209.0  30.77  \n7           200.0  35.07  \n8           231.0  30.19  \n9           180.0  27.05  \n\n[10 rows x 42 columns]",
      "text/html": "<div>\n<style scoped>\n    .dataframe tbody tr th:only-of-type {\n        vertical-align: middle;\n    }\n\n    .dataframe tbody tr th {\n        vertical-align: top;\n    }\n\n    .dataframe thead th {\n        text-align: right;\n    }\n</style>\n<table border=\"1\" class=\"dataframe\">\n  <thead>\n    <tr style=\"text-align: right;\">\n      <th></th>\n      <th>Team = BAL</th>\n      <th>Team = CWS</th>\n      <th>Team = ANA</th>\n      <th>Team = BOS</th>\n      <th>Team = CLE</th>\n      <th>Team = OAK</th>\n      <th>Team = NYY</th>\n      <th>Team = DET</th>\n      <th>Team = SEA</th>\n      <th>Team = TB</th>\n      <th>...</th>\n      <th>Position = Second_Baseman</th>\n      <th>Position = Shortstop</th>\n      <th>Position = Third_Baseman</th>\n      <th>Position = Outfielder</th>\n      <th>Position = Designated_Hitter</th>\n      <th>Position = Starting_Pitcher</th>\n      <th>Position = Relief_Pitcher</th>\n      <th>Height(inches)</th>\n      <th>Weight(pounds)</th>\n      <th>Age</th>\n    </tr>\n  </thead>\n  <tbody>\n    <tr>\n      <th>0</th>\n      <td>1</td>\n      <td>0</td>\n      <td>0</td>\n      <td>0</td>\n      <td>0</td>\n      <td>0</td>\n      <td>0</td>\n      <td>0</td>\n      <td>0</td>\n      <td>0</td>\n      <td>...</td>\n      <td>0</td>\n      <td>0</td>\n      <td>0</td>\n      <td>0</td>\n      <td>0</td>\n      <td>0</td>\n      <td>0</td>\n      <td>74</td>\n      <td>180.0</td>\n      <td>22.99</td>\n    </tr>\n    <tr>\n      <th>1</th>\n      <td>1</td>\n      <td>0</td>\n      <td>0</td>\n      <td>0</td>\n      <td>0</td>\n      <td>0</td>\n      <td>0</td>\n      <td>0</td>\n      <td>0</td>\n      <td>0</td>\n      <td>...</td>\n      <td>0</td>\n      <td>0</td>\n      <td>0</td>\n      <td>0</td>\n      <td>0</td>\n      <td>0</td>\n      <td>0</td>\n      <td>74</td>\n      <td>215.0</td>\n      <td>34.69</td>\n    </tr>\n    <tr>\n      <th>2</th>\n      <td>1</td>\n      <td>0</td>\n      <td>0</td>\n      <td>0</td>\n      <td>0</td>\n      <td>0</td>\n      <td>0</td>\n      <td>0</td>\n      <td>0</td>\n      <td>0</td>\n      <td>...</td>\n      <td>0</td>\n      <td>0</td>\n      <td>0</td>\n      <td>0</td>\n      <td>0</td>\n      <td>0</td>\n      <td>0</td>\n      <td>72</td>\n      <td>210.0</td>\n      <td>30.78</td>\n    </tr>\n    <tr>\n      <th>3</th>\n      <td>1</td>\n      <td>0</td>\n      <td>0</td>\n      <td>0</td>\n      <td>0</td>\n      <td>0</td>\n      <td>0</td>\n      <td>0</td>\n      <td>0</td>\n      <td>0</td>\n      <td>...</td>\n      <td>0</td>\n      <td>0</td>\n      <td>0</td>\n      <td>0</td>\n      <td>0</td>\n      <td>0</td>\n      <td>0</td>\n      <td>72</td>\n      <td>210.0</td>\n      <td>35.43</td>\n    </tr>\n    <tr>\n      <th>4</th>\n      <td>1</td>\n      <td>0</td>\n      <td>0</td>\n      <td>0</td>\n      <td>0</td>\n      <td>0</td>\n      <td>0</td>\n      <td>0</td>\n      <td>0</td>\n      <td>0</td>\n      <td>...</td>\n      <td>0</td>\n      <td>0</td>\n      <td>0</td>\n      <td>0</td>\n      <td>0</td>\n      <td>0</td>\n      <td>0</td>\n      <td>73</td>\n      <td>188.0</td>\n      <td>35.71</td>\n    </tr>\n    <tr>\n      <th>5</th>\n      <td>1</td>\n      <td>0</td>\n      <td>0</td>\n      <td>0</td>\n      <td>0</td>\n      <td>0</td>\n      <td>0</td>\n      <td>0</td>\n      <td>0</td>\n      <td>0</td>\n      <td>...</td>\n      <td>1</td>\n      <td>0</td>\n      <td>0</td>\n      <td>0</td>\n      <td>0</td>\n      <td>0</td>\n      <td>0</td>\n      <td>69</td>\n      <td>176.0</td>\n      <td>29.39</td>\n    </tr>\n    <tr>\n      <th>6</th>\n      <td>1</td>\n      <td>0</td>\n      <td>0</td>\n      <td>0</td>\n      <td>0</td>\n      <td>0</td>\n      <td>0</td>\n      <td>0</td>\n      <td>0</td>\n      <td>0</td>\n      <td>...</td>\n      <td>0</td>\n      <td>1</td>\n      <td>0</td>\n      <td>0</td>\n      <td>0</td>\n      <td>0</td>\n      <td>0</td>\n      <td>69</td>\n      <td>209.0</td>\n      <td>30.77</td>\n    </tr>\n    <tr>\n      <th>7</th>\n      <td>1</td>\n      <td>0</td>\n      <td>0</td>\n      <td>0</td>\n      <td>0</td>\n      <td>0</td>\n      <td>0</td>\n      <td>0</td>\n      <td>0</td>\n      <td>0</td>\n      <td>...</td>\n      <td>0</td>\n      <td>0</td>\n      <td>1</td>\n      <td>0</td>\n      <td>0</td>\n      <td>0</td>\n      <td>0</td>\n      <td>71</td>\n      <td>200.0</td>\n      <td>35.07</td>\n    </tr>\n    <tr>\n      <th>8</th>\n      <td>1</td>\n      <td>0</td>\n      <td>0</td>\n      <td>0</td>\n      <td>0</td>\n      <td>0</td>\n      <td>0</td>\n      <td>0</td>\n      <td>0</td>\n      <td>0</td>\n      <td>...</td>\n      <td>0</td>\n      <td>0</td>\n      <td>1</td>\n      <td>0</td>\n      <td>0</td>\n      <td>0</td>\n      <td>0</td>\n      <td>76</td>\n      <td>231.0</td>\n      <td>30.19</td>\n    </tr>\n    <tr>\n      <th>9</th>\n      <td>1</td>\n      <td>0</td>\n      <td>0</td>\n      <td>0</td>\n      <td>0</td>\n      <td>0</td>\n      <td>0</td>\n      <td>0</td>\n      <td>0</td>\n      <td>0</td>\n      <td>...</td>\n      <td>0</td>\n      <td>0</td>\n      <td>0</td>\n      <td>1</td>\n      <td>0</td>\n      <td>0</td>\n      <td>0</td>\n      <td>71</td>\n      <td>180.0</td>\n      <td>27.05</td>\n    </tr>\n  </tbody>\n</table>\n<p>10 rows × 42 columns</p>\n</div>"
     },
     "metadata": {},
     "execution_count": 121
    }
   ],
   "source": [
    "data.head(10)"
   ]
  },
  {
   "cell_type": "code",
   "execution_count": 122,
   "metadata": {},
   "outputs": [
    {
     "output_type": "stream",
     "name": "stdout",
     "text": "<class 'pandas.core.frame.DataFrame'>\nRangeIndex: 1034 entries, 0 to 1033\nData columns (total 42 columns):\n #   Column                        Non-Null Count  Dtype  \n---  ------                        --------------  -----  \n 0   Team = BAL                    1034 non-null   int64  \n 1   Team = CWS                    1034 non-null   int64  \n 2   Team = ANA                    1034 non-null   int64  \n 3   Team = BOS                    1034 non-null   int64  \n 4   Team = CLE                    1034 non-null   int64  \n 5   Team = OAK                    1034 non-null   int64  \n 6   Team = NYY                    1034 non-null   int64  \n 7   Team = DET                    1034 non-null   int64  \n 8   Team = SEA                    1034 non-null   int64  \n 9   Team = TB                     1034 non-null   int64  \n 10  Team = KC                     1034 non-null   int64  \n 11  Team = TEX                    1034 non-null   int64  \n 12  Team = TOR                    1034 non-null   int64  \n 13  Team = MIN                    1034 non-null   int64  \n 14  Team = ATL                    1034 non-null   int64  \n 15  Team = CHC                    1034 non-null   int64  \n 16  Team = ARZ                    1034 non-null   int64  \n 17  Team = FLA                    1034 non-null   int64  \n 18  Team = CIN                    1034 non-null   int64  \n 19  Team = COL                    1034 non-null   int64  \n 20  Team = NYM                    1034 non-null   int64  \n 21  Team = HOU                    1034 non-null   int64  \n 22  Team = LA                     1034 non-null   int64  \n 23  Team = PHI                    1034 non-null   int64  \n 24  Team = MLW                    1034 non-null   int64  \n 25  Team = SD                     1034 non-null   int64  \n 26  Team = WAS                    1034 non-null   int64  \n 27  Team = PIT                    1034 non-null   int64  \n 28  Team = SF                     1034 non-null   int64  \n 29  Team = STL                    1034 non-null   int64  \n 30  Position = Catcher            1034 non-null   int64  \n 31  Position = First_Baseman      1034 non-null   int64  \n 32  Position = Second_Baseman     1034 non-null   int64  \n 33  Position = Shortstop          1034 non-null   int64  \n 34  Position = Third_Baseman      1034 non-null   int64  \n 35  Position = Outfielder         1034 non-null   int64  \n 36  Position = Designated_Hitter  1034 non-null   int64  \n 37  Position = Starting_Pitcher   1034 non-null   int64  \n 38  Position = Relief_Pitcher     1034 non-null   int64  \n 39  Height(inches)                1034 non-null   int64  \n 40  Weight(pounds)                1033 non-null   float64\n 41  Age                           1034 non-null   float64\ndtypes: float64(2), int64(40)\nmemory usage: 339.4 KB\n"
    }
   ],
   "source": [
    "data.info()"
   ]
  },
  {
   "cell_type": "code",
   "execution_count": 123,
   "metadata": {},
   "outputs": [
    {
     "output_type": "execute_result",
     "data": {
      "text/plain": "Team = BAL                      False\nTeam = CWS                      False\nTeam = ANA                      False\nTeam = BOS                      False\nTeam = CLE                      False\nTeam = OAK                      False\nTeam = NYY                      False\nTeam = DET                      False\nTeam = SEA                      False\nTeam = TB                       False\nTeam = KC                       False\nTeam = TEX                      False\nTeam = TOR                      False\nTeam = MIN                      False\nTeam = ATL                      False\nTeam = CHC                      False\nTeam = ARZ                      False\nTeam = FLA                      False\nTeam = CIN                      False\nTeam = COL                      False\nTeam = NYM                      False\nTeam = HOU                      False\nTeam = LA                       False\nTeam = PHI                      False\nTeam = MLW                      False\nTeam = SD                       False\nTeam = WAS                      False\nTeam = PIT                      False\nTeam = SF                       False\nTeam = STL                      False\nPosition = Catcher              False\nPosition = First_Baseman        False\nPosition = Second_Baseman       False\nPosition = Shortstop            False\nPosition = Third_Baseman        False\nPosition = Outfielder           False\nPosition = Designated_Hitter    False\nPosition = Starting_Pitcher     False\nPosition = Relief_Pitcher       False\nHeight(inches)                  False\nWeight(pounds)                   True\nAge                             False\ndtype: bool"
     },
     "metadata": {},
     "execution_count": 123
    }
   ],
   "source": [
    "data.isna().any()"
   ]
  },
  {
   "cell_type": "code",
   "execution_count": 124,
   "metadata": {},
   "outputs": [
    {
     "output_type": "execute_result",
     "data": {
      "text/plain": "201.6892545982575"
     },
     "metadata": {},
     "execution_count": 124
    }
   ],
   "source": [
    "data['Weight(pounds)'].mean()"
   ]
  },
  {
   "cell_type": "code",
   "execution_count": 125,
   "metadata": {},
   "outputs": [],
   "source": [
    "# fill null values \n",
    "data['Weight(pounds)'] = data['Weight(pounds)'].fillna(data['Weight(pounds)'].mean())"
   ]
  },
  {
   "cell_type": "code",
   "execution_count": 126,
   "metadata": {},
   "outputs": [
    {
     "output_type": "execute_result",
     "data": {
      "text/plain": "0"
     },
     "metadata": {},
     "execution_count": 126
    }
   ],
   "source": [
    "data['Weight(pounds)'].isnull().sum()"
   ]
  },
  {
   "cell_type": "code",
   "execution_count": 127,
   "metadata": {},
   "outputs": [
    {
     "output_type": "execute_result",
     "data": {
      "text/plain": "['Team = BAL',\n 'Team = CWS',\n 'Team = ANA',\n 'Team = BOS',\n 'Team = CLE',\n 'Team = OAK',\n 'Team = NYY',\n 'Team = DET',\n 'Team = SEA',\n 'Team = TB',\n 'Team = KC',\n 'Team = TEX',\n 'Team = TOR',\n 'Team = MIN',\n 'Team = ATL',\n 'Team = CHC',\n 'Team = ARZ',\n 'Team = FLA',\n 'Team = CIN',\n 'Team = COL',\n 'Team = NYM',\n 'Team = HOU',\n 'Team = LA',\n 'Team = PHI',\n 'Team = MLW',\n 'Team = SD',\n 'Team = WAS',\n 'Team = PIT',\n 'Team = SF',\n 'Team = STL',\n 'Position = Catcher',\n 'Position = First_Baseman',\n 'Position = Second_Baseman',\n 'Position = Shortstop',\n 'Position = Third_Baseman',\n 'Position = Outfielder',\n 'Position = Designated_Hitter',\n 'Position = Starting_Pitcher',\n 'Position = Relief_Pitcher',\n 'Height(inches)',\n 'Weight(pounds)',\n 'Age ']"
     },
     "metadata": {},
     "execution_count": 127
    }
   ],
   "source": [
    "list(data.columns)"
   ]
  },
  {
   "cell_type": "code",
   "execution_count": 128,
   "metadata": {},
   "outputs": [],
   "source": [
    "# Custom transformer to calculate the BMI from weight and height\n",
    "class BMICalculator:\n",
    "    def __init__(self):\n",
    "        pass\n",
    "    \n",
    "    def fit(self, X, y = None):\n",
    "        return self # because we do not need to fit the data we can simply return it\n",
    "\n",
    "    def transform(self, X, y = None):\n",
    "        # create new BMI column and calculate it\n",
    "        # Formula: 703 x weight (lbs) / [height (in)]2\n",
    "        weight = X['Weight(pounds)'].astype(int)\n",
    "        height = X['Height(inches)'].astype(int)\n",
    "        bmi = 730 * weight / (height * height)\n",
    "        X.loc[:,'BMI'] = bmi\n",
    "        return X"
   ]
  },
  {
   "cell_type": "code",
   "execution_count": 129,
   "metadata": {},
   "outputs": [],
   "source": [
    "# run data through pipeline\n",
    "pipeline = Pipeline(steps=[\n",
    "    (\"calculate bmi\", BMICalculator())\n",
    "])"
   ]
  },
  {
   "cell_type": "code",
   "execution_count": 130,
   "metadata": {},
   "outputs": [],
   "source": [
    "piped_data = pipeline.transform(data)"
   ]
  },
  {
   "cell_type": "code",
   "execution_count": 131,
   "metadata": {},
   "outputs": [],
   "source": [
    "# drop redundant column \n",
    "piped_data = piped_data.drop('Height(inches)', axis = 1)\n",
    "piped_data = piped_data.drop('Weight(pounds)', axis = 1)"
   ]
  },
  {
   "cell_type": "code",
   "execution_count": 132,
   "metadata": {},
   "outputs": [
    {
     "output_type": "execute_result",
     "data": {
      "text/plain": "   Team = BAL  Team = CWS  Team = ANA  Team = BOS  Team = CLE  Team = OAK  \\\n0           1           0           0           0           0           0   \n1           1           0           0           0           0           0   \n2           1           0           0           0           0           0   \n3           1           0           0           0           0           0   \n4           1           0           0           0           0           0   \n\n   Team = NYY  Team = DET  Team = SEA  Team = TB  ...  \\\n0           0           0           0          0  ...   \n1           0           0           0          0  ...   \n2           0           0           0          0  ...   \n3           0           0           0          0  ...   \n4           0           0           0          0  ...   \n\n   Position = First_Baseman  Position = Second_Baseman  Position = Shortstop  \\\n0                         0                          0                     0   \n1                         0                          0                     0   \n2                         0                          0                     0   \n3                         1                          0                     0   \n4                         1                          0                     0   \n\n   Position = Third_Baseman  Position = Outfielder  \\\n0                         0                      0   \n1                         0                      0   \n2                         0                      0   \n3                         0                      0   \n4                         0                      0   \n\n   Position = Designated_Hitter  Position = Starting_Pitcher  \\\n0                             0                            0   \n1                             0                            0   \n2                             0                            0   \n3                             0                            0   \n4                             0                            0   \n\n   Position = Relief_Pitcher   Age         BMI  \n0                          0  22.99  23.995617  \n1                          0  34.69  28.661432  \n2                          0  30.78  29.571759  \n3                          0  35.43  29.571759  \n4                          0  35.71  25.753425  \n\n[5 rows x 41 columns]",
      "text/html": "<div>\n<style scoped>\n    .dataframe tbody tr th:only-of-type {\n        vertical-align: middle;\n    }\n\n    .dataframe tbody tr th {\n        vertical-align: top;\n    }\n\n    .dataframe thead th {\n        text-align: right;\n    }\n</style>\n<table border=\"1\" class=\"dataframe\">\n  <thead>\n    <tr style=\"text-align: right;\">\n      <th></th>\n      <th>Team = BAL</th>\n      <th>Team = CWS</th>\n      <th>Team = ANA</th>\n      <th>Team = BOS</th>\n      <th>Team = CLE</th>\n      <th>Team = OAK</th>\n      <th>Team = NYY</th>\n      <th>Team = DET</th>\n      <th>Team = SEA</th>\n      <th>Team = TB</th>\n      <th>...</th>\n      <th>Position = First_Baseman</th>\n      <th>Position = Second_Baseman</th>\n      <th>Position = Shortstop</th>\n      <th>Position = Third_Baseman</th>\n      <th>Position = Outfielder</th>\n      <th>Position = Designated_Hitter</th>\n      <th>Position = Starting_Pitcher</th>\n      <th>Position = Relief_Pitcher</th>\n      <th>Age</th>\n      <th>BMI</th>\n    </tr>\n  </thead>\n  <tbody>\n    <tr>\n      <th>0</th>\n      <td>1</td>\n      <td>0</td>\n      <td>0</td>\n      <td>0</td>\n      <td>0</td>\n      <td>0</td>\n      <td>0</td>\n      <td>0</td>\n      <td>0</td>\n      <td>0</td>\n      <td>...</td>\n      <td>0</td>\n      <td>0</td>\n      <td>0</td>\n      <td>0</td>\n      <td>0</td>\n      <td>0</td>\n      <td>0</td>\n      <td>0</td>\n      <td>22.99</td>\n      <td>23.995617</td>\n    </tr>\n    <tr>\n      <th>1</th>\n      <td>1</td>\n      <td>0</td>\n      <td>0</td>\n      <td>0</td>\n      <td>0</td>\n      <td>0</td>\n      <td>0</td>\n      <td>0</td>\n      <td>0</td>\n      <td>0</td>\n      <td>...</td>\n      <td>0</td>\n      <td>0</td>\n      <td>0</td>\n      <td>0</td>\n      <td>0</td>\n      <td>0</td>\n      <td>0</td>\n      <td>0</td>\n      <td>34.69</td>\n      <td>28.661432</td>\n    </tr>\n    <tr>\n      <th>2</th>\n      <td>1</td>\n      <td>0</td>\n      <td>0</td>\n      <td>0</td>\n      <td>0</td>\n      <td>0</td>\n      <td>0</td>\n      <td>0</td>\n      <td>0</td>\n      <td>0</td>\n      <td>...</td>\n      <td>0</td>\n      <td>0</td>\n      <td>0</td>\n      <td>0</td>\n      <td>0</td>\n      <td>0</td>\n      <td>0</td>\n      <td>0</td>\n      <td>30.78</td>\n      <td>29.571759</td>\n    </tr>\n    <tr>\n      <th>3</th>\n      <td>1</td>\n      <td>0</td>\n      <td>0</td>\n      <td>0</td>\n      <td>0</td>\n      <td>0</td>\n      <td>0</td>\n      <td>0</td>\n      <td>0</td>\n      <td>0</td>\n      <td>...</td>\n      <td>1</td>\n      <td>0</td>\n      <td>0</td>\n      <td>0</td>\n      <td>0</td>\n      <td>0</td>\n      <td>0</td>\n      <td>0</td>\n      <td>35.43</td>\n      <td>29.571759</td>\n    </tr>\n    <tr>\n      <th>4</th>\n      <td>1</td>\n      <td>0</td>\n      <td>0</td>\n      <td>0</td>\n      <td>0</td>\n      <td>0</td>\n      <td>0</td>\n      <td>0</td>\n      <td>0</td>\n      <td>0</td>\n      <td>...</td>\n      <td>1</td>\n      <td>0</td>\n      <td>0</td>\n      <td>0</td>\n      <td>0</td>\n      <td>0</td>\n      <td>0</td>\n      <td>0</td>\n      <td>35.71</td>\n      <td>25.753425</td>\n    </tr>\n  </tbody>\n</table>\n<p>5 rows × 41 columns</p>\n</div>"
     },
     "metadata": {},
     "execution_count": 132
    }
   ],
   "source": [
    "piped_data.head()"
   ]
  },
  {
   "cell_type": "markdown",
   "metadata": {},
   "source": [
    "## Create Test- and Trainingdata"
   ]
  },
  {
   "cell_type": "code",
   "execution_count": 133,
   "metadata": {},
   "outputs": [],
   "source": [
    "input_features = [\n",
    "    'Team = BAL',\n",
    "    'Team = CWS',\n",
    "    'Team = ANA',\n",
    "    'Team = BOS',\n",
    "    'Team = CLE',\n",
    "    'Team = OAK',\n",
    "    'Team = NYY',\n",
    "    'Team = DET',\n",
    "    'Team = SEA',\n",
    "    'Team = TB',\n",
    "    'Team = KC',\n",
    "    'Team = TEX',\n",
    "    'Team = TOR',\n",
    "    'Team = MIN',\n",
    "    'Team = ATL',\n",
    "    'Team = CHC',\n",
    "    'Team = ARZ',\n",
    "    'Team = FLA',\n",
    "    'Team = CIN',\n",
    "    'Team = COL',\n",
    "    'Team = NYM',\n",
    "    'Team = HOU',\n",
    "    'Team = LA',\n",
    "    'Team = PHI',\n",
    "    'Team = MLW',\n",
    "    'Team = SD',\n",
    "    'Team = WAS',\n",
    "    'Team = PIT',\n",
    "    'Team = SF',\n",
    "    'Team = STL',\n",
    "    'Position = Catcher',\n",
    "    'Position = First_Baseman',\n",
    "    'Position = Second_Baseman',\n",
    "    'Position = Shortstop',\n",
    "    'Position = Third_Baseman',\n",
    "    'Position = Outfielder',\n",
    "    'Position = Designated_Hitter',\n",
    "    'Position = Starting_Pitcher',\n",
    "    'Position = Relief_Pitcher',\n",
    "    'Age '\n",
    "]\n",
    "\n",
    "output_features = [\n",
    "    'BMI'\n",
    "]"
   ]
  },
  {
   "cell_type": "code",
   "execution_count": 134,
   "metadata": {},
   "outputs": [],
   "source": [
    "X = piped_data[input_features]\n",
    "y = piped_data[output_features]"
   ]
  },
  {
   "cell_type": "code",
   "execution_count": 135,
   "metadata": {},
   "outputs": [],
   "source": [
    "X_train, X_test, y_train, y_test = train_test_split(X, y, random_state = 123, test_size = 0.2)"
   ]
  },
  {
   "cell_type": "code",
   "execution_count": 136,
   "metadata": {},
   "outputs": [
    {
     "output_type": "stream",
     "name": "stdout",
     "text": "827 207 827 207\n"
    }
   ],
   "source": [
    "print(X_train.shape[0], X_test.shape[0], y_train.shape[0], y_test.shape[0])"
   ]
  },
  {
   "cell_type": "markdown",
   "metadata": {},
   "source": [
    "# Creating a model"
   ]
  },
  {
   "cell_type": "code",
   "execution_count": 137,
   "metadata": {},
   "outputs": [
    {
     "output_type": "stream",
     "name": "stdout",
     "text": "[24.06278635]\n[[-0.42046265  0.43991178 -0.06913982 -0.20553585 -0.09892019  0.17653301\n  -0.08508579  0.58957035 -0.29362018 -0.05261622 -0.40658592 -0.14842502\n  -0.21490573  0.48571268 -0.2622726  -0.05994087  1.24465988  0.09159162\n   0.18218342 -0.90016376 -0.10207144 -0.37773672  0.73366933 -0.88080187\n   0.54627814  0.20968719 -0.6602677   0.7958643   0.19067016 -0.44777955\n   0.72952592  0.65763955 -0.99608411 -1.77096852 -0.10774685 -0.08183039\n   2.29439249 -0.40590295 -0.31902514  0.1153331 ]]\n"
    }
   ],
   "source": [
    "lr_model = LinearRegression()\n",
    "lr_model.fit(X_train, y_train)\n",
    "print(lr_model.intercept_)\n",
    "print(lr_model.coef_)"
   ]
  },
  {
   "cell_type": "code",
   "execution_count": 138,
   "metadata": {},
   "outputs": [],
   "source": [
    "prediction = lr_model.predict(X_test)"
   ]
  },
  {
   "cell_type": "code",
   "execution_count": 139,
   "metadata": {},
   "outputs": [
    {
     "output_type": "execute_result",
     "data": {
      "text/plain": "0.043259539806098535"
     },
     "metadata": {},
     "execution_count": 139
    }
   ],
   "source": [
    "lr_model.score(X_test, y_test)"
   ]
  },
  {
   "cell_type": "markdown",
   "metadata": {},
   "source": [
    "# Improvements\n",
    "## Lasso Regression"
   ]
  },
  {
   "cell_type": "code",
   "execution_count": 158,
   "metadata": {},
   "outputs": [
    {
     "output_type": "stream",
     "name": "stdout",
     "text": "[23.63657244]\n[-0.          0.          0.         -0.          0.          0.\n  0.          0.         -0.         -0.         -0.         -0.\n -0.          0.         -0.         -0.          0.          0.\n  0.         -0.         -0.         -0.          0.         -0.\n  0.          0.         -0.          0.          0.         -0.\n  0.          0.         -0.         -0.          0.          0.\n  0.         -0.         -0.          0.12185157]\n"
    }
   ],
   "source": [
    "lasso_model = Lasso(alpha=0.1)\n",
    "lasso_model.fit(X_train, y_train)\n",
    "print(lasso_model.intercept_)\n",
    "print(lasso_model.coef_)"
   ]
  },
  {
   "cell_type": "code",
   "execution_count": 159,
   "metadata": {},
   "outputs": [
    {
     "output_type": "execute_result",
     "data": {
      "text/plain": "0.054244020682513994"
     },
     "metadata": {},
     "execution_count": 159
    }
   ],
   "source": [
    "lasso_prediction = lasso_model.predict(X_test)\n",
    "lasso_model.score(X_test, y_test)\n",
    ""
   ]
  },
  {
   "cell_type": "code",
   "execution_count": null,
   "metadata": {},
   "outputs": [],
   "source": []
  }
 ]
}