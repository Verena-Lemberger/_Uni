{
  "nbformat": 4,
  "nbformat_minor": 0,
  "metadata": {
    "colab": {
      "name": "CNN.ipynb",
      "provenance": [],
      "collapsed_sections": []
    },
    "kernelspec": {
      "name": "python3",
      "display_name": "Python 3"
    }
  },
  "cells": [
    {
      "cell_type": "code",
      "metadata": {
        "id": "ouTufqnCPc4T",
        "colab_type": "code",
        "colab": {}
      },
      "source": [
        "# tensorflow stuff\n",
        "import tensorflow as tf\n",
        "from tensorflow.keras.models import Sequential\n",
        "from tensorflow.keras.layers import Dense, Conv2D, Flatten, Dropout, MaxPool2D\n",
        "\n",
        "# mnist dataset\n",
        "mnist = tf.keras.datasets.mnist\n",
        "(x_train, y_train), (x_test, y_test) = mnist.load_data()\n",
        "\n",
        "# imgs sizes\n",
        "img_rows = 28\n",
        "img_cols = 28\n",
        "\n",
        "# channels first ???\n",
        "if tf.keras.backend.image_data_format() == 'channels_first':\n",
        "    x_train = x_train.reshape(x_train.shape[0], 1, img_rows, img_cols)\n",
        "    x_test = x_test.reshape(x_test.shape[0], 1, img_rows, img_cols)\n",
        "    input_shape = (1, img_rows, img_cols)\n",
        "else:\n",
        "    x_train = x_train.reshape(x_train.shape[0], img_rows, img_cols, 1)\n",
        "    x_test = x_test.reshape(x_test.shape[0], img_rows, img_cols, 1)\n",
        "    input_shape = (img_rows, img_cols, 1)\n",
        "\n",
        "# convert training and test data to floats so the net can work with the imgs\n",
        "x_train = x_train.astype('float32')\n",
        "x_test = x_test.astype('float32')\n",
        "x_train /= 255 #255 because of greyscaled imgs (black & white)\n",
        "x_test /= 255\n",
        "\n",
        "# kernel size & input shape\n",
        "# 32 -> 64\n",
        "# was macht MaxPool, Droput, Flatten & Dense?\n",
        "model = Sequential([\n",
        "  Conv2D(32, kernel_size=(3, 3), activation='relu', input_shape=(28, 28 ,1)), \n",
        "  Conv2D(64, (3, 3), activation='relu'),\n",
        "  MaxPool2D(),\n",
        "  Dropout(0.25),\n",
        "  Flatten(),\n",
        "  Dense(512, activation='relu'),\n",
        "  Dropout(0.5),\n",
        "  Dense(10, activation='softmax')\n",
        "])\n",
        "\n",
        "# was macht die loss function genau? Gibt es da noch andere?\n",
        "loss_fn = tf.keras.losses.SparseCategoricalCrossentropy(from_logits=True)\n",
        "model.compile(optimizer='adam', loss=loss_fn, metrics=['accuracy'])\n",
        "\n",
        "# batch size?\n",
        "model.fit(x_train, y_train,\n",
        "          batch_size=128,\n",
        "          epochs=1,\n",
        "          verbose=1,\n",
        "          validation_data=(x_test, y_test))\n",
        "\n",
        "score = model.evaluate(x_test, y_test, verbose=0)\n",
        "\n",
        "print('Test loss:', score[0])\n",
        "print('Test accuracy:', score[1])"
      ],
      "execution_count": 20,
      "outputs": [
        {
          "output_type": "stream",
          "name": "stdout",
          "text": "Train on 60000 samples, validate on 10000 samples\n60000/60000 [==============================] - 76s 1ms/sample - loss: 1.5424 - accuracy: 0.9227 - val_loss: 1.4867 - val_accuracy: 0.9746\nTest loss: 1.4867469120025634\nTest accuracy: 0.9746\n"
        },
        {
          "output_type": "execute_result",
          "data": {
            "text/plain": "'\\n\\nmodel.fit(x_train, y_train, epochs=5)\\nmodel.evaluate(x_test,  y_test, verbose=2)\\n\\nprobability_model = tf.keras.Sequential([\\n  model,\\n  tf.keras.layers.Softmax()\\n])\\n\\nprint(probability_model(x_test[:5]))\\n\\n'"
          },
          "metadata": {},
          "execution_count": 20
        }
      ]
    },
    {
      "cell_type": "code",
      "execution_count": null,
      "metadata": {},
      "outputs": [],
      "source": []
    }
  ]
}